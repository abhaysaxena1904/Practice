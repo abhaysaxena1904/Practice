{
  "nbformat": 4,
  "nbformat_minor": 0,
  "metadata": {
    "colab": {
      "name": "Copy of TF Watcher Demo.ipynb",
      "provenance": [],
      "collapsed_sections": [],
      "include_colab_link": true
    },
    "kernelspec": {
      "name": "python3",
      "display_name": "Python 3"
    },
    "language_info": {
      "name": "python"
    }
  },
  "cells": [
    {
      "cell_type": "markdown",
      "metadata": {
        "id": "view-in-github",
        "colab_type": "text"
      },
      "source": [
        "<a href=\"https://colab.research.google.com/github/abhaysaxena1904/Practice/blob/main/TF_Watcher_Demo.ipynb\" target=\"_parent\"><img src=\"https://colab.research.google.com/assets/colab-badge.svg\" alt=\"Open In Colab\"/></a>"
      ]
    },
    {
      "cell_type": "markdown",
      "metadata": {
        "id": "ABLsHz3eq5g5"
      },
      "source": [
        "# Quick Start: TF Watcher\n",
        "\n",
        "![](https://i.imgur.com/C1EuWC2.png)\n",
        "\n",
        "What if you could monitor your Machine Learning jobs on Colab, Kaggle, AzureML, or pretty much anywhere on your mobile phones, so you could monitor your models on the fly. Even while taking a walk🚶in < 5 lines of code!\n",
        "\n",
        "Consider giving a star⭐ to [the project](https://github.com/Rishit-dagli/TF-Watcher) if you like it.\n",
        "\n",
        "In this example we’ll use the [Fashion MNIST dataset](https://www.tensorflow.org/api_docs/python/tf/keras/datasets/fashion_mnist) to serve as a quickstart.\n"
      ]
    },
    {
      "cell_type": "markdown",
      "metadata": {
        "id": "qo1MNu3MrphA"
      },
      "source": [
        "## Setup\n",
        "\n",
        "We start off by installing TF Watcher from PyPI."
      ]
    },
    {
      "cell_type": "code",
      "metadata": {
        "id": "thIaiMelqOmg",
        "colab": {
          "base_uri": "https://localhost:8080/"
        },
        "outputId": "f8932843-5459-456c-bef2-85a1d13829af"
      },
      "source": [
        "!pip install tf-watcher"
      ],
      "execution_count": null,
      "outputs": [
        {
          "output_type": "stream",
          "name": "stdout",
          "text": [
            "Collecting tf-watcher\n",
            "  Downloading tf_watcher-0.1.1-py3-none-any.whl (22 kB)\n",
            "Collecting tensorflow~=2.5.0\n",
            "  Downloading tensorflow-2.5.1-cp37-cp37m-manylinux2010_x86_64.whl (454.4 MB)\n",
            "\u001b[K     |████████████████████████████████| 454.4 MB 8.9 kB/s \n",
            "\u001b[?25hCollecting pyrebase4~=4.5.0\n",
            "  Downloading Pyrebase4-4.5.0-py3-none-any.whl (8.9 kB)\n",
            "Collecting pycryptodome>=3.6.4\n",
            "  Downloading pycryptodome-3.10.1-cp35-abi3-manylinux2010_x86_64.whl (1.9 MB)\n",
            "\u001b[K     |████████████████████████████████| 1.9 MB 40.9 MB/s \n",
            "\u001b[?25hRequirement already satisfied: requests>=2.19.1 in /usr/local/lib/python3.7/dist-packages (from pyrebase4~=4.5.0->tf-watcher) (2.23.0)\n",
            "Collecting python-jwt>=2.0.1\n",
            "  Downloading python_jwt-3.3.0-py2.py3-none-any.whl (6.8 kB)\n",
            "Requirement already satisfied: oauth2client>=4.1.2 in /usr/local/lib/python3.7/dist-packages (from pyrebase4~=4.5.0->tf-watcher) (4.1.3)\n",
            "Collecting requests-toolbelt>=0.7.1\n",
            "  Downloading requests_toolbelt-0.9.1-py2.py3-none-any.whl (54 kB)\n",
            "\u001b[K     |████████████████████████████████| 54 kB 2.4 MB/s \n",
            "\u001b[?25hCollecting gcloud>=0.18.3\n",
            "  Downloading gcloud-0.18.3.tar.gz (454 kB)\n",
            "\u001b[K     |████████████████████████████████| 454 kB 65.2 MB/s \n",
            "\u001b[?25hRequirement already satisfied: httplib2>=0.9.1 in /usr/local/lib/python3.7/dist-packages (from gcloud>=0.18.3->pyrebase4~=4.5.0->tf-watcher) (0.17.4)\n",
            "Requirement already satisfied: googleapis-common-protos in /usr/local/lib/python3.7/dist-packages (from gcloud>=0.18.3->pyrebase4~=4.5.0->tf-watcher) (1.53.0)\n",
            "Requirement already satisfied: protobuf!=3.0.0.b2.post1,>=3.0.0b2 in /usr/local/lib/python3.7/dist-packages (from gcloud>=0.18.3->pyrebase4~=4.5.0->tf-watcher) (3.17.3)\n",
            "Requirement already satisfied: six in /usr/local/lib/python3.7/dist-packages (from gcloud>=0.18.3->pyrebase4~=4.5.0->tf-watcher) (1.15.0)\n",
            "Requirement already satisfied: pyasn1-modules>=0.0.5 in /usr/local/lib/python3.7/dist-packages (from oauth2client>=4.1.2->pyrebase4~=4.5.0->tf-watcher) (0.2.8)\n",
            "Requirement already satisfied: pyasn1>=0.1.7 in /usr/local/lib/python3.7/dist-packages (from oauth2client>=4.1.2->pyrebase4~=4.5.0->tf-watcher) (0.4.8)\n",
            "Requirement already satisfied: rsa>=3.1.4 in /usr/local/lib/python3.7/dist-packages (from oauth2client>=4.1.2->pyrebase4~=4.5.0->tf-watcher) (4.7.2)\n",
            "Collecting jwcrypto>=0.8\n",
            "  Downloading jwcrypto-1.0-py2.py3-none-any.whl (82 kB)\n",
            "\u001b[K     |████████████████████████████████| 82 kB 994 kB/s \n",
            "\u001b[?25hCollecting cryptography>=2.3\n",
            "  Downloading cryptography-3.4.8-cp36-abi3-manylinux_2_24_x86_64.whl (3.0 MB)\n",
            "\u001b[K     |████████████████████████████████| 3.0 MB 39.7 MB/s \n",
            "\u001b[?25hCollecting deprecated\n",
            "  Downloading Deprecated-1.2.13-py2.py3-none-any.whl (9.6 kB)\n",
            "Requirement already satisfied: cffi>=1.12 in /usr/local/lib/python3.7/dist-packages (from cryptography>=2.3->jwcrypto>=0.8->python-jwt>=2.0.1->pyrebase4~=4.5.0->tf-watcher) (1.14.6)\n",
            "Requirement already satisfied: pycparser in /usr/local/lib/python3.7/dist-packages (from cffi>=1.12->cryptography>=2.3->jwcrypto>=0.8->python-jwt>=2.0.1->pyrebase4~=4.5.0->tf-watcher) (2.20)\n",
            "Requirement already satisfied: idna<3,>=2.5 in /usr/local/lib/python3.7/dist-packages (from requests>=2.19.1->pyrebase4~=4.5.0->tf-watcher) (2.10)\n",
            "Requirement already satisfied: chardet<4,>=3.0.2 in /usr/local/lib/python3.7/dist-packages (from requests>=2.19.1->pyrebase4~=4.5.0->tf-watcher) (3.0.4)\n",
            "Requirement already satisfied: certifi>=2017.4.17 in /usr/local/lib/python3.7/dist-packages (from requests>=2.19.1->pyrebase4~=4.5.0->tf-watcher) (2021.5.30)\n",
            "Requirement already satisfied: urllib3!=1.25.0,!=1.25.1,<1.26,>=1.21.1 in /usr/local/lib/python3.7/dist-packages (from requests>=2.19.1->pyrebase4~=4.5.0->tf-watcher) (1.24.3)\n",
            "Requirement already satisfied: keras-preprocessing~=1.1.2 in /usr/local/lib/python3.7/dist-packages (from tensorflow~=2.5.0->tf-watcher) (1.1.2)\n",
            "Collecting grpcio~=1.34.0\n",
            "  Downloading grpcio-1.34.1-cp37-cp37m-manylinux2014_x86_64.whl (4.0 MB)\n",
            "\u001b[K     |████████████████████████████████| 4.0 MB 29.6 MB/s \n",
            "\u001b[?25hRequirement already satisfied: google-pasta~=0.2 in /usr/local/lib/python3.7/dist-packages (from tensorflow~=2.5.0->tf-watcher) (0.2.0)\n",
            "Requirement already satisfied: wheel~=0.35 in /usr/local/lib/python3.7/dist-packages (from tensorflow~=2.5.0->tf-watcher) (0.37.0)\n",
            "Requirement already satisfied: typing-extensions~=3.7.4 in /usr/local/lib/python3.7/dist-packages (from tensorflow~=2.5.0->tf-watcher) (3.7.4.3)\n",
            "Requirement already satisfied: astunparse~=1.6.3 in /usr/local/lib/python3.7/dist-packages (from tensorflow~=2.5.0->tf-watcher) (1.6.3)\n",
            "Requirement already satisfied: wrapt~=1.12.1 in /usr/local/lib/python3.7/dist-packages (from tensorflow~=2.5.0->tf-watcher) (1.12.1)\n",
            "Requirement already satisfied: absl-py~=0.10 in /usr/local/lib/python3.7/dist-packages (from tensorflow~=2.5.0->tf-watcher) (0.12.0)\n",
            "Collecting tensorflow-estimator<2.6.0,>=2.5.0\n",
            "  Downloading tensorflow_estimator-2.5.0-py2.py3-none-any.whl (462 kB)\n",
            "\u001b[K     |████████████████████████████████| 462 kB 57.8 MB/s \n",
            "\u001b[?25hRequirement already satisfied: numpy~=1.19.2 in /usr/local/lib/python3.7/dist-packages (from tensorflow~=2.5.0->tf-watcher) (1.19.5)\n",
            "Requirement already satisfied: h5py~=3.1.0 in /usr/local/lib/python3.7/dist-packages (from tensorflow~=2.5.0->tf-watcher) (3.1.0)\n",
            "Requirement already satisfied: flatbuffers~=1.12.0 in /usr/local/lib/python3.7/dist-packages (from tensorflow~=2.5.0->tf-watcher) (1.12)\n",
            "Collecting keras-nightly~=2.5.0.dev\n",
            "  Downloading keras_nightly-2.5.0.dev2021032900-py2.py3-none-any.whl (1.2 MB)\n",
            "\u001b[K     |████████████████████████████████| 1.2 MB 64.5 MB/s \n",
            "\u001b[?25hRequirement already satisfied: gast==0.4.0 in /usr/local/lib/python3.7/dist-packages (from tensorflow~=2.5.0->tf-watcher) (0.4.0)\n",
            "Requirement already satisfied: termcolor~=1.1.0 in /usr/local/lib/python3.7/dist-packages (from tensorflow~=2.5.0->tf-watcher) (1.1.0)\n",
            "Requirement already satisfied: opt-einsum~=3.3.0 in /usr/local/lib/python3.7/dist-packages (from tensorflow~=2.5.0->tf-watcher) (3.3.0)\n",
            "Requirement already satisfied: tensorboard~=2.5 in /usr/local/lib/python3.7/dist-packages (from tensorflow~=2.5.0->tf-watcher) (2.6.0)\n",
            "Requirement already satisfied: cached-property in /usr/local/lib/python3.7/dist-packages (from h5py~=3.1.0->tensorflow~=2.5.0->tf-watcher) (1.5.2)\n",
            "Requirement already satisfied: tensorboard-plugin-wit>=1.6.0 in /usr/local/lib/python3.7/dist-packages (from tensorboard~=2.5->tensorflow~=2.5.0->tf-watcher) (1.8.0)\n",
            "Requirement already satisfied: werkzeug>=0.11.15 in /usr/local/lib/python3.7/dist-packages (from tensorboard~=2.5->tensorflow~=2.5.0->tf-watcher) (1.0.1)\n",
            "Requirement already satisfied: setuptools>=41.0.0 in /usr/local/lib/python3.7/dist-packages (from tensorboard~=2.5->tensorflow~=2.5.0->tf-watcher) (57.4.0)\n",
            "Requirement already satisfied: google-auth<2,>=1.6.3 in /usr/local/lib/python3.7/dist-packages (from tensorboard~=2.5->tensorflow~=2.5.0->tf-watcher) (1.34.0)\n",
            "Requirement already satisfied: tensorboard-data-server<0.7.0,>=0.6.0 in /usr/local/lib/python3.7/dist-packages (from tensorboard~=2.5->tensorflow~=2.5.0->tf-watcher) (0.6.1)\n",
            "Requirement already satisfied: markdown>=2.6.8 in /usr/local/lib/python3.7/dist-packages (from tensorboard~=2.5->tensorflow~=2.5.0->tf-watcher) (3.3.4)\n",
            "Requirement already satisfied: google-auth-oauthlib<0.5,>=0.4.1 in /usr/local/lib/python3.7/dist-packages (from tensorboard~=2.5->tensorflow~=2.5.0->tf-watcher) (0.4.5)\n",
            "Requirement already satisfied: cachetools<5.0,>=2.0.0 in /usr/local/lib/python3.7/dist-packages (from google-auth<2,>=1.6.3->tensorboard~=2.5->tensorflow~=2.5.0->tf-watcher) (4.2.2)\n",
            "Requirement already satisfied: requests-oauthlib>=0.7.0 in /usr/local/lib/python3.7/dist-packages (from google-auth-oauthlib<0.5,>=0.4.1->tensorboard~=2.5->tensorflow~=2.5.0->tf-watcher) (1.3.0)\n",
            "Requirement already satisfied: importlib-metadata in /usr/local/lib/python3.7/dist-packages (from markdown>=2.6.8->tensorboard~=2.5->tensorflow~=2.5.0->tf-watcher) (4.6.4)\n",
            "Requirement already satisfied: oauthlib>=3.0.0 in /usr/local/lib/python3.7/dist-packages (from requests-oauthlib>=0.7.0->google-auth-oauthlib<0.5,>=0.4.1->tensorboard~=2.5->tensorflow~=2.5.0->tf-watcher) (3.1.1)\n",
            "Requirement already satisfied: zipp>=0.5 in /usr/local/lib/python3.7/dist-packages (from importlib-metadata->markdown>=2.6.8->tensorboard~=2.5->tensorflow~=2.5.0->tf-watcher) (3.5.0)\n",
            "Building wheels for collected packages: gcloud\n",
            "  Building wheel for gcloud (setup.py) ... \u001b[?25l\u001b[?25hdone\n",
            "  Created wheel for gcloud: filename=gcloud-0.18.3-py3-none-any.whl size=602936 sha256=729583aaba1727169fa30123c5dd17eac802192bff77fbd64edc5fc913d32de2\n",
            "  Stored in directory: /root/.cache/pip/wheels/50/9d/19/dc1a639905431252dbf8a61388a83459c5cfef7add445bebe4\n",
            "Successfully built gcloud\n",
            "Installing collected packages: deprecated, cryptography, jwcrypto, grpcio, tensorflow-estimator, requests-toolbelt, python-jwt, pycryptodome, keras-nightly, gcloud, tensorflow, pyrebase4, tf-watcher\n",
            "  Attempting uninstall: grpcio\n",
            "    Found existing installation: grpcio 1.39.0\n",
            "    Uninstalling grpcio-1.39.0:\n",
            "      Successfully uninstalled grpcio-1.39.0\n",
            "  Attempting uninstall: tensorflow-estimator\n",
            "    Found existing installation: tensorflow-estimator 2.6.0\n",
            "    Uninstalling tensorflow-estimator-2.6.0:\n",
            "      Successfully uninstalled tensorflow-estimator-2.6.0\n",
            "  Attempting uninstall: tensorflow\n",
            "    Found existing installation: tensorflow 2.6.0\n",
            "    Uninstalling tensorflow-2.6.0:\n",
            "      Successfully uninstalled tensorflow-2.6.0\n",
            "Successfully installed cryptography-3.4.8 deprecated-1.2.13 gcloud-0.18.3 grpcio-1.34.1 jwcrypto-1.0 keras-nightly-2.5.0.dev2021032900 pycryptodome-3.10.1 pyrebase4-4.5.0 python-jwt-3.3.0 requests-toolbelt-0.9.1 tensorflow-2.5.1 tensorflow-estimator-2.5.0 tf-watcher-0.1.1\n"
          ]
        }
      ]
    },
    {
      "cell_type": "code",
      "metadata": {
        "id": "8ZUHwRXar0d3"
      },
      "source": [
        "import tensorflow as tf\n",
        "from tensorflow import keras\n",
        "import tfwatcher"
      ],
      "execution_count": null,
      "outputs": []
    },
    {
      "cell_type": "markdown",
      "metadata": {
        "id": "bs8H7Jbar88W"
      },
      "source": [
        "## Get the data"
      ]
    },
    {
      "cell_type": "code",
      "metadata": {
        "id": "FjJwLfWNqiNg",
        "colab": {
          "base_uri": "https://localhost:8080/"
        },
        "outputId": "05e2d1a9-7726-470e-86f8-23e055061f3b"
      },
      "source": [
        "# Load example MNIST data and pre-process it\n",
        "(x_train, y_train), (x_test, y_test) = tf.keras.datasets.mnist.load_data()"
      ],
      "execution_count": null,
      "outputs": [
        {
          "output_type": "stream",
          "name": "stdout",
          "text": [
            "Downloading data from https://storage.googleapis.com/tensorflow/tf-keras-datasets/mnist.npz\n",
            "11493376/11490434 [==============================] - 0s 0us/step\n"
          ]
        }
      ]
    },
    {
      "cell_type": "markdown",
      "metadata": {
        "id": "YWpMfsOfsP4-"
      },
      "source": [
        "Some simple pre-processing"
      ]
    },
    {
      "cell_type": "code",
      "metadata": {
        "id": "lyHgcA9_sPLW"
      },
      "source": [
        "x_train = x_train.reshape(-1, 784).astype(\"float32\") / 255.0\n",
        "x_test = x_test.reshape(-1, 784).astype(\"float32\") / 255.0\n",
        "\n",
        "# Limit the data to 1000 samples\n",
        "x_train = x_train[:1000]\n",
        "y_train = y_train[:1000]\n",
        "x_test = x_test[:1000]\n",
        "y_test = y_test[:1000]"
      ],
      "execution_count": null,
      "outputs": []
    },
    {
      "cell_type": "markdown",
      "metadata": {
        "id": "kgTdz3fBsT9G"
      },
      "source": [
        "## Create a simple model\n",
        "\n",
        "Note the `metrics` argument in `model.compile`, specify any additional metrics you want to log from here."
      ]
    },
    {
      "cell_type": "code",
      "metadata": {
        "id": "BJV8gVVbqdTV"
      },
      "source": [
        "# Define the Keras model to add callbacks to\n",
        "def get_model():\n",
        "    model = keras.Sequential()\n",
        "    model.add(keras.layers.Dense(1, input_dim=784))\n",
        "    model.compile(\n",
        "        optimizer=keras.optimizers.RMSprop(learning_rate=0.1),\n",
        "        loss=\"mean_squared_error\",\n",
        "        metrics=[\"accuracy\"],\n",
        "    )\n",
        "    return model"
      ],
      "execution_count": null,
      "outputs": []
    },
    {
      "cell_type": "markdown",
      "metadata": {
        "id": "9K1GyQYrsj_q"
      },
      "source": [
        "## Use TF Watcher while training\n",
        "\n",
        "- We use the `EpochEnd` class from TF Watcher to specify we are interested in operating in the epoch level\n",
        "- We pass in `schedule` as 1 to monitor after every epoch. You could pass in this as 3 to monitor after every 3 epochs or also pass in a list of the specific epoch number you want to monitor on"
      ]
    },
    {
      "cell_type": "code",
      "metadata": {
        "colab": {
          "base_uri": "https://localhost:8080/"
        },
        "id": "bCFgAzIvqrR-",
        "outputId": "5d9860df-84d8-40c6-c148-78800eba08e0"
      },
      "source": [
        "MonitorCallback = tfwatcher.callbacks.EpochEnd(schedule = 1)"
      ],
      "execution_count": null,
      "outputs": [
        {
          "output_type": "stream",
          "name": "stdout",
          "text": [
            "Use this ID to monitor training for this session: PVEjdoW\n"
          ]
        }
      ]
    },
    {
      "cell_type": "markdown",
      "metadata": {
        "id": "hGfjyhEjb0A4"
      },
      "source": [
        "We will now use this ID on https://www.tfwatcher.tech to monitor our model"
      ]
    },
    {
      "cell_type": "code",
      "metadata": {
        "colab": {
          "base_uri": "https://localhost:8080/"
        },
        "id": "E7xAlx5rqqDu",
        "outputId": "5a1c60b1-177b-4e0c-c16c-c1cf69e75959"
      },
      "source": [
        "model = get_model()\n",
        "history = model.fit(\n",
        "    x_train,\n",
        "    y_train,\n",
        "    batch_size=128,\n",
        "    epochs=100,\n",
        "    validation_split=0.5,\n",
        "    callbacks = [MonitorCallback]\n",
        ")"
      ],
      "execution_count": null,
      "outputs": [
        {
          "output_type": "stream",
          "name": "stdout",
          "text": [
            "Epoch 1/100\n",
            "4/4 [==============================] - 1s 58ms/step - loss: 227.1196 - accuracy: 0.1040 - val_loss: 7.1067 - val_accuracy: 0.1020\n",
            "Epoch 2/100\n",
            "4/4 [==============================] - 0s 14ms/step - loss: 5.7887 - accuracy: 0.1540 - val_loss: 5.2283 - val_accuracy: 0.1040\n",
            "Epoch 3/100\n",
            "4/4 [==============================] - 0s 12ms/step - loss: 4.2202 - accuracy: 0.1600 - val_loss: 4.5928 - val_accuracy: 0.1080\n",
            "Epoch 4/100\n",
            "4/4 [==============================] - 0s 11ms/step - loss: 3.7176 - accuracy: 0.1680 - val_loss: 5.1948 - val_accuracy: 0.1040\n",
            "Epoch 5/100\n",
            "4/4 [==============================] - 0s 15ms/step - loss: 18.5656 - accuracy: 0.1400 - val_loss: 87.5930 - val_accuracy: 0.1000\n",
            "Epoch 6/100\n",
            "4/4 [==============================] - 0s 15ms/step - loss: 71.0789 - accuracy: 0.1240 - val_loss: 30.6363 - val_accuracy: 0.1000\n",
            "Epoch 7/100\n",
            "4/4 [==============================] - 0s 15ms/step - loss: 18.2178 - accuracy: 0.1340 - val_loss: 14.8939 - val_accuracy: 0.1000\n",
            "Epoch 8/100\n",
            "4/4 [==============================] - 0s 10ms/step - loss: 18.9584 - accuracy: 0.1220 - val_loss: 31.1560 - val_accuracy: 0.1000\n",
            "Epoch 9/100\n",
            "4/4 [==============================] - 0s 16ms/step - loss: 40.0633 - accuracy: 0.1240 - val_loss: 47.4083 - val_accuracy: 0.1000\n",
            "Epoch 10/100\n",
            "4/4 [==============================] - 0s 11ms/step - loss: 29.0954 - accuracy: 0.1180 - val_loss: 16.6026 - val_accuracy: 0.1000\n",
            "Epoch 11/100\n",
            "4/4 [==============================] - 0s 11ms/step - loss: 16.9795 - accuracy: 0.1220 - val_loss: 31.6995 - val_accuracy: 0.1000\n",
            "Epoch 12/100\n",
            "4/4 [==============================] - 0s 10ms/step - loss: 38.3491 - accuracy: 0.1060 - val_loss: 42.4536 - val_accuracy: 0.1000\n",
            "Epoch 13/100\n",
            "4/4 [==============================] - 0s 10ms/step - loss: 32.9160 - accuracy: 0.1080 - val_loss: 24.5969 - val_accuracy: 0.1000\n",
            "Epoch 14/100\n",
            "4/4 [==============================] - 0s 9ms/step - loss: 23.6969 - accuracy: 0.1100 - val_loss: 27.0555 - val_accuracy: 0.1000\n",
            "Epoch 15/100\n",
            "4/4 [==============================] - 0s 12ms/step - loss: 26.3263 - accuracy: 0.1480 - val_loss: 48.3719 - val_accuracy: 0.1000\n",
            "Epoch 16/100\n",
            "4/4 [==============================] - 0s 14ms/step - loss: 32.5865 - accuracy: 0.1240 - val_loss: 39.2407 - val_accuracy: 0.1000\n",
            "Epoch 17/100\n",
            "4/4 [==============================] - 0s 10ms/step - loss: 35.7819 - accuracy: 0.1020 - val_loss: 27.0168 - val_accuracy: 0.1000\n",
            "Epoch 18/100\n",
            "4/4 [==============================] - 0s 10ms/step - loss: 29.5777 - accuracy: 0.1080 - val_loss: 23.2684 - val_accuracy: 0.1000\n",
            "Epoch 19/100\n",
            "4/4 [==============================] - 0s 16ms/step - loss: 22.9025 - accuracy: 0.1080 - val_loss: 24.1987 - val_accuracy: 0.1000\n",
            "Epoch 20/100\n",
            "4/4 [==============================] - 0s 11ms/step - loss: 25.9085 - accuracy: 0.1420 - val_loss: 43.6348 - val_accuracy: 0.1000\n",
            "Epoch 21/100\n",
            "4/4 [==============================] - 0s 15ms/step - loss: 36.5157 - accuracy: 0.1300 - val_loss: 43.3534 - val_accuracy: 0.1000\n",
            "Epoch 22/100\n",
            "4/4 [==============================] - 0s 16ms/step - loss: 28.4724 - accuracy: 0.1040 - val_loss: 28.9573 - val_accuracy: 0.1000\n",
            "Epoch 23/100\n",
            "4/4 [==============================] - 0s 14ms/step - loss: 24.2780 - accuracy: 0.1140 - val_loss: 29.3372 - val_accuracy: 0.1000\n",
            "Epoch 24/100\n",
            "4/4 [==============================] - 0s 10ms/step - loss: 26.3467 - accuracy: 0.1160 - val_loss: 39.9586 - val_accuracy: 0.1000\n",
            "Epoch 25/100\n",
            "4/4 [==============================] - 0s 12ms/step - loss: 35.8614 - accuracy: 0.1180 - val_loss: 36.2333 - val_accuracy: 0.1000\n",
            "Epoch 26/100\n",
            "4/4 [==============================] - 0s 11ms/step - loss: 24.2308 - accuracy: 0.1400 - val_loss: 25.9072 - val_accuracy: 0.1000\n",
            "Epoch 27/100\n",
            "4/4 [==============================] - 0s 9ms/step - loss: 24.0463 - accuracy: 0.1220 - val_loss: 53.0235 - val_accuracy: 0.1000\n",
            "Epoch 28/100\n",
            "4/4 [==============================] - 0s 11ms/step - loss: 48.2938 - accuracy: 0.1000 - val_loss: 29.1387 - val_accuracy: 0.1000\n",
            "Epoch 29/100\n",
            "4/4 [==============================] - 0s 11ms/step - loss: 18.7438 - accuracy: 0.1200 - val_loss: 12.6608 - val_accuracy: 0.1000\n",
            "Epoch 30/100\n",
            "4/4 [==============================] - 0s 10ms/step - loss: 12.5338 - accuracy: 0.1200 - val_loss: 28.0609 - val_accuracy: 0.1000\n",
            "Epoch 31/100\n",
            "4/4 [==============================] - 0s 9ms/step - loss: 39.1942 - accuracy: 0.1300 - val_loss: 64.5121 - val_accuracy: 0.1000\n",
            "Epoch 32/100\n",
            "4/4 [==============================] - 0s 16ms/step - loss: 39.0009 - accuracy: 0.1140 - val_loss: 25.1738 - val_accuracy: 0.1000\n",
            "Epoch 33/100\n",
            "4/4 [==============================] - 0s 16ms/step - loss: 19.5403 - accuracy: 0.1160 - val_loss: 19.4604 - val_accuracy: 0.1000\n",
            "Epoch 34/100\n",
            "4/4 [==============================] - 0s 10ms/step - loss: 18.0165 - accuracy: 0.1220 - val_loss: 45.2778 - val_accuracy: 0.1000\n",
            "Epoch 35/100\n",
            "4/4 [==============================] - 0s 9ms/step - loss: 50.1983 - accuracy: 0.1120 - val_loss: 30.5589 - val_accuracy: 0.1000\n",
            "Epoch 36/100\n",
            "4/4 [==============================] - 0s 10ms/step - loss: 17.3728 - accuracy: 0.1460 - val_loss: 19.3126 - val_accuracy: 0.1000\n",
            "Epoch 37/100\n",
            "4/4 [==============================] - 0s 9ms/step - loss: 25.4480 - accuracy: 0.1100 - val_loss: 35.6418 - val_accuracy: 0.1000\n",
            "Epoch 38/100\n",
            "4/4 [==============================] - 0s 13ms/step - loss: 30.5640 - accuracy: 0.1200 - val_loss: 45.6712 - val_accuracy: 0.1000\n",
            "Epoch 39/100\n",
            "4/4 [==============================] - 0s 11ms/step - loss: 40.3084 - accuracy: 0.1100 - val_loss: 25.0861 - val_accuracy: 0.1000\n",
            "Epoch 40/100\n",
            "4/4 [==============================] - 0s 11ms/step - loss: 23.4672 - accuracy: 0.1080 - val_loss: 23.0579 - val_accuracy: 0.1000\n",
            "Epoch 41/100\n",
            "4/4 [==============================] - 0s 15ms/step - loss: 21.7801 - accuracy: 0.1120 - val_loss: 41.2928 - val_accuracy: 0.1000\n",
            "Epoch 42/100\n",
            "4/4 [==============================] - 0s 11ms/step - loss: 40.3655 - accuracy: 0.1140 - val_loss: 37.0919 - val_accuracy: 0.1000\n",
            "Epoch 43/100\n",
            "4/4 [==============================] - 0s 16ms/step - loss: 26.0096 - accuracy: 0.1360 - val_loss: 29.7058 - val_accuracy: 0.1000\n",
            "Epoch 44/100\n",
            "4/4 [==============================] - 0s 15ms/step - loss: 24.9955 - accuracy: 0.1120 - val_loss: 28.5627 - val_accuracy: 0.1000\n",
            "Epoch 45/100\n",
            "4/4 [==============================] - 0s 9ms/step - loss: 27.5536 - accuracy: 0.1120 - val_loss: 39.9817 - val_accuracy: 0.1000\n",
            "Epoch 46/100\n",
            "4/4 [==============================] - 0s 15ms/step - loss: 31.1038 - accuracy: 0.1280 - val_loss: 31.1828 - val_accuracy: 0.1000\n",
            "Epoch 47/100\n",
            "4/4 [==============================] - 0s 15ms/step - loss: 34.2942 - accuracy: 0.1340 - val_loss: 39.5142 - val_accuracy: 0.1000\n",
            "Epoch 48/100\n",
            "4/4 [==============================] - 0s 10ms/step - loss: 24.9881 - accuracy: 0.1300 - val_loss: 21.2386 - val_accuracy: 0.1000\n",
            "Epoch 49/100\n",
            "4/4 [==============================] - 0s 15ms/step - loss: 22.9881 - accuracy: 0.1260 - val_loss: 42.2684 - val_accuracy: 0.1000\n",
            "Epoch 50/100\n",
            "4/4 [==============================] - 0s 11ms/step - loss: 43.3027 - accuracy: 0.0980 - val_loss: 18.2820 - val_accuracy: 0.1000\n",
            "Epoch 51/100\n",
            "4/4 [==============================] - 0s 11ms/step - loss: 13.3926 - accuracy: 0.1080 - val_loss: 17.8826 - val_accuracy: 0.1000\n",
            "Epoch 52/100\n",
            "4/4 [==============================] - 0s 11ms/step - loss: 26.9912 - accuracy: 0.1140 - val_loss: 54.9846 - val_accuracy: 0.1000\n",
            "Epoch 53/100\n",
            "4/4 [==============================] - 0s 16ms/step - loss: 43.7576 - accuracy: 0.1240 - val_loss: 38.2566 - val_accuracy: 0.1000\n",
            "Epoch 54/100\n",
            "4/4 [==============================] - 0s 11ms/step - loss: 23.1637 - accuracy: 0.1180 - val_loss: 21.0821 - val_accuracy: 0.1000\n",
            "Epoch 55/100\n",
            "4/4 [==============================] - 0s 12ms/step - loss: 20.2874 - accuracy: 0.1240 - val_loss: 36.9613 - val_accuracy: 0.1000\n",
            "Epoch 56/100\n",
            "4/4 [==============================] - 0s 11ms/step - loss: 30.6515 - accuracy: 0.1060 - val_loss: 69.3441 - val_accuracy: 0.1000\n",
            "Epoch 57/100\n",
            "4/4 [==============================] - 0s 13ms/step - loss: 43.7228 - accuracy: 0.1160 - val_loss: 24.1870 - val_accuracy: 0.1000\n",
            "Epoch 58/100\n",
            "4/4 [==============================] - 0s 11ms/step - loss: 17.1783 - accuracy: 0.1300 - val_loss: 23.4722 - val_accuracy: 0.1000\n",
            "Epoch 59/100\n",
            "4/4 [==============================] - 0s 10ms/step - loss: 25.0220 - accuracy: 0.1320 - val_loss: 51.2141 - val_accuracy: 0.1000\n",
            "Epoch 60/100\n",
            "4/4 [==============================] - 0s 10ms/step - loss: 36.6838 - accuracy: 0.1220 - val_loss: 27.2284 - val_accuracy: 0.1000\n",
            "Epoch 61/100\n",
            "4/4 [==============================] - 0s 10ms/step - loss: 23.0898 - accuracy: 0.1120 - val_loss: 31.4799 - val_accuracy: 0.1000\n",
            "Epoch 62/100\n",
            "4/4 [==============================] - 0s 10ms/step - loss: 27.3424 - accuracy: 0.0960 - val_loss: 46.9101 - val_accuracy: 0.1000\n",
            "Epoch 63/100\n",
            "4/4 [==============================] - 0s 9ms/step - loss: 40.3481 - accuracy: 0.1040 - val_loss: 33.7633 - val_accuracy: 0.1000\n",
            "Epoch 64/100\n",
            "4/4 [==============================] - 0s 12ms/step - loss: 21.3412 - accuracy: 0.1060 - val_loss: 28.0059 - val_accuracy: 0.1000\n",
            "Epoch 65/100\n",
            "4/4 [==============================] - 0s 12ms/step - loss: 24.1307 - accuracy: 0.1180 - val_loss: 35.1976 - val_accuracy: 0.1000\n",
            "Epoch 66/100\n",
            "4/4 [==============================] - 0s 10ms/step - loss: 36.1611 - accuracy: 0.1240 - val_loss: 46.4733 - val_accuracy: 0.1000\n",
            "Epoch 67/100\n",
            "4/4 [==============================] - 0s 9ms/step - loss: 27.3683 - accuracy: 0.1340 - val_loss: 13.1065 - val_accuracy: 0.1000\n",
            "Epoch 68/100\n",
            "4/4 [==============================] - 0s 10ms/step - loss: 10.0026 - accuracy: 0.1040 - val_loss: 21.4536 - val_accuracy: 0.1000\n",
            "Epoch 69/100\n",
            "4/4 [==============================] - 0s 9ms/step - loss: 37.2377 - accuracy: 0.1060 - val_loss: 62.3394 - val_accuracy: 0.1000\n",
            "Epoch 70/100\n",
            "4/4 [==============================] - 0s 9ms/step - loss: 38.5483 - accuracy: 0.1320 - val_loss: 22.8945 - val_accuracy: 0.1000\n",
            "Epoch 71/100\n",
            "4/4 [==============================] - 0s 15ms/step - loss: 18.5712 - accuracy: 0.1180 - val_loss: 17.5583 - val_accuracy: 0.1000\n",
            "Epoch 72/100\n",
            "4/4 [==============================] - 0s 10ms/step - loss: 21.6586 - accuracy: 0.1320 - val_loss: 50.0947 - val_accuracy: 0.1000\n",
            "Epoch 73/100\n",
            "4/4 [==============================] - 0s 16ms/step - loss: 44.6282 - accuracy: 0.1140 - val_loss: 45.3006 - val_accuracy: 0.1000\n",
            "Epoch 74/100\n",
            "4/4 [==============================] - 0s 10ms/step - loss: 27.3621 - accuracy: 0.1080 - val_loss: 17.8840 - val_accuracy: 0.1000\n",
            "Epoch 75/100\n",
            "4/4 [==============================] - 0s 10ms/step - loss: 16.1943 - accuracy: 0.1100 - val_loss: 30.7203 - val_accuracy: 0.1000\n",
            "Epoch 76/100\n",
            "4/4 [==============================] - 0s 16ms/step - loss: 29.4528 - accuracy: 0.1400 - val_loss: 47.7878 - val_accuracy: 0.1000\n",
            "Epoch 77/100\n",
            "4/4 [==============================] - 0s 10ms/step - loss: 38.4348 - accuracy: 0.1140 - val_loss: 33.8043 - val_accuracy: 0.1000\n",
            "Epoch 78/100\n",
            "4/4 [==============================] - 0s 12ms/step - loss: 28.2601 - accuracy: 0.1060 - val_loss: 25.6366 - val_accuracy: 0.1000\n",
            "Epoch 79/100\n",
            "4/4 [==============================] - 0s 10ms/step - loss: 22.5704 - accuracy: 0.1240 - val_loss: 34.2121 - val_accuracy: 0.1000\n",
            "Epoch 80/100\n",
            "4/4 [==============================] - 0s 10ms/step - loss: 31.1514 - accuracy: 0.1180 - val_loss: 32.5947 - val_accuracy: 0.1000\n",
            "Epoch 81/100\n",
            "4/4 [==============================] - 0s 10ms/step - loss: 25.7404 - accuracy: 0.1200 - val_loss: 29.6384 - val_accuracy: 0.1000\n",
            "Epoch 82/100\n",
            "4/4 [==============================] - 0s 15ms/step - loss: 29.8617 - accuracy: 0.1240 - val_loss: 38.3955 - val_accuracy: 0.1000\n",
            "Epoch 83/100\n",
            "4/4 [==============================] - 0s 15ms/step - loss: 34.2061 - accuracy: 0.1180 - val_loss: 35.7570 - val_accuracy: 0.1000\n",
            "Epoch 84/100\n",
            "4/4 [==============================] - 0s 10ms/step - loss: 25.8877 - accuracy: 0.1280 - val_loss: 30.5075 - val_accuracy: 0.1000\n",
            "Epoch 85/100\n",
            "4/4 [==============================] - 0s 9ms/step - loss: 27.3776 - accuracy: 0.1140 - val_loss: 32.2544 - val_accuracy: 0.1000\n",
            "Epoch 86/100\n",
            "4/4 [==============================] - 0s 11ms/step - loss: 24.0431 - accuracy: 0.1360 - val_loss: 42.4045 - val_accuracy: 0.1000\n",
            "Epoch 87/100\n",
            "4/4 [==============================] - 0s 9ms/step - loss: 36.8453 - accuracy: 0.1080 - val_loss: 41.7780 - val_accuracy: 0.1000\n",
            "Epoch 88/100\n",
            "4/4 [==============================] - 0s 11ms/step - loss: 26.5784 - accuracy: 0.1200 - val_loss: 33.5571 - val_accuracy: 0.1000\n",
            "Epoch 89/100\n",
            "4/4 [==============================] - 0s 9ms/step - loss: 28.1949 - accuracy: 0.1220 - val_loss: 29.6403 - val_accuracy: 0.1000\n",
            "Epoch 90/100\n",
            "4/4 [==============================] - 0s 10ms/step - loss: 27.5047 - accuracy: 0.1260 - val_loss: 35.5713 - val_accuracy: 0.1000\n",
            "Epoch 91/100\n",
            "4/4 [==============================] - 0s 10ms/step - loss: 29.1998 - accuracy: 0.1260 - val_loss: 29.5283 - val_accuracy: 0.1000\n",
            "Epoch 92/100\n",
            "4/4 [==============================] - 0s 9ms/step - loss: 24.4255 - accuracy: 0.1200 - val_loss: 24.4687 - val_accuracy: 0.1000\n",
            "Epoch 93/100\n",
            "4/4 [==============================] - 0s 11ms/step - loss: 24.2499 - accuracy: 0.1060 - val_loss: 40.8750 - val_accuracy: 0.1000\n",
            "Epoch 94/100\n",
            "4/4 [==============================] - 0s 11ms/step - loss: 31.8888 - accuracy: 0.1200 - val_loss: 48.9751 - val_accuracy: 0.1000\n",
            "Epoch 95/100\n",
            "4/4 [==============================] - 0s 10ms/step - loss: 30.0446 - accuracy: 0.1100 - val_loss: 31.7776 - val_accuracy: 0.1000\n",
            "Epoch 96/100\n",
            "4/4 [==============================] - 0s 15ms/step - loss: 24.9414 - accuracy: 0.1060 - val_loss: 35.0363 - val_accuracy: 0.1000\n",
            "Epoch 97/100\n",
            "4/4 [==============================] - 0s 11ms/step - loss: 30.3252 - accuracy: 0.1060 - val_loss: 39.7091 - val_accuracy: 0.1000\n",
            "Epoch 98/100\n",
            "4/4 [==============================] - 0s 9ms/step - loss: 28.7604 - accuracy: 0.1140 - val_loss: 26.3955 - val_accuracy: 0.1000\n",
            "Epoch 99/100\n",
            "4/4 [==============================] - 0s 10ms/step - loss: 24.1216 - accuracy: 0.1260 - val_loss: 43.1693 - val_accuracy: 0.1000\n",
            "Epoch 100/100\n",
            "4/4 [==============================] - 0s 10ms/step - loss: 40.8621 - accuracy: 0.1160 - val_loss: 37.1133 - val_accuracy: 0.1000\n"
          ]
        }
      ]
    }
  ]
}