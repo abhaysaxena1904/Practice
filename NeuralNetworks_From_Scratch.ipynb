{
  "nbformat": 4,
  "nbformat_minor": 0,
  "metadata": {
    "colab": {
      "name": "NeuralNetworks_From_Scratch",
      "provenance": [],
      "collapsed_sections": [],
      "toc_visible": true,
      "mount_file_id": "1jXE2UPvUHVYtJ6Rr6flVb3gP1qG0vBga",
      "authorship_tag": "ABX9TyPDDxygHQi6Ek3GEmG4ADxy",
      "include_colab_link": true
    },
    "kernelspec": {
      "name": "python3",
      "display_name": "Python 3"
    },
    "language_info": {
      "name": "python"
    }
  },
  "cells": [
    {
      "cell_type": "markdown",
      "metadata": {
        "id": "view-in-github",
        "colab_type": "text"
      },
      "source": [
        "<a href=\"https://colab.research.google.com/github/abhaysaxena1904/Practice/blob/NeuralNetworks_From_Scratches/NeuralNetworks_From_Scratch.ipynb\" target=\"_parent\"><img src=\"https://colab.research.google.com/assets/colab-badge.svg\" alt=\"Open In Colab\"/></a>"
      ]
    },
    {
      "cell_type": "code",
      "metadata": {
        "id": "HJLOILw36xpg"
      },
      "source": [
        "import sys\n",
        "import numpy as np\n",
        "import matplotlib"
      ],
      "execution_count": 28,
      "outputs": []
    },
    {
      "cell_type": "markdown",
      "metadata": {
        "id": "ZI3pCbgljYyo"
      },
      "source": [
        "# Neuron Calculation"
      ]
    },
    {
      "cell_type": "code",
      "metadata": {
        "id": "SbD52cLy6xtI",
        "colab": {
          "base_uri": "https://localhost:8080/"
        },
        "outputId": "c33f4db6-d2d4-4052-eafa-266d73689ff3"
      },
      "source": [
        "## Neuron with 3 input from previous layers \n",
        "\n",
        "inputs = [1,2,3]\n",
        "weights = [0.2,0.8,-0.5,1]\n",
        "bias= 2\n",
        "\n",
        "output = inputs[0]*weights[0] + inputs[1]*weights[1] + inputs[2]*weights[2] +bias\n",
        "output"
      ],
      "execution_count": 19,
      "outputs": [
        {
          "output_type": "execute_result",
          "data": {
            "text/plain": [
              "2.3"
            ]
          },
          "metadata": {},
          "execution_count": 19
        }
      ]
    },
    {
      "cell_type": "code",
      "metadata": {
        "id": "y3ZVV0TC6xwD",
        "colab": {
          "base_uri": "https://localhost:8080/"
        },
        "outputId": "97c418f5-0703-4a68-dd74-ec6895b182e1"
      },
      "source": [
        "## Neuron with 4 input from previous layers \n",
        "\n",
        "inputs = [1,2,3, 2.5]\n",
        "weights = [0.2,0.8,-0.5,1]\n",
        "bias= 2\n",
        "\n",
        "output = inputs[0]*weights[0] + inputs[1]*weights[1] + inputs[2]*weights[2] +inputs[3]*weights[3]+bias\n",
        "output"
      ],
      "execution_count": 20,
      "outputs": [
        {
          "output_type": "execute_result",
          "data": {
            "text/plain": [
              "4.8"
            ]
          },
          "metadata": {},
          "execution_count": 20
        }
      ]
    },
    {
      "cell_type": "markdown",
      "metadata": {
        "id": "weVHESbsjgH5"
      },
      "source": [
        "# Layer calculation"
      ]
    },
    {
      "cell_type": "code",
      "metadata": {
        "colab": {
          "base_uri": "https://localhost:8080/"
        },
        "id": "DddTCEGpXpZE",
        "outputId": "117a7982-1d17-445b-9ccb-e071de209b1f"
      },
      "source": [
        "# Layer of 3 neurons with input from prev layer of 4 neurons\n",
        "\n",
        "inputs = [1,2,3, 2.5]\n",
        "\n",
        "\n",
        "weights1 = [0.2,0.8,-0.5,1]\n",
        "bias1 = 2\n",
        "weights2 = [0.5,-0.91,0.26,-0.5]\n",
        "bias2 = 3\n",
        "weights3 = [-0.26,-0.27,0.17,0.87]\n",
        "bias3 = 0.5\n",
        "\n",
        "output = [inputs[0]*weights1[0] + inputs[1]*weights1[1] + inputs[2]*weights1[2] +inputs[3]*weights1[3]+bias1,\n",
        "          inputs[0]*weights2[0] + inputs[1]*weights2[1] + inputs[2]*weights2[2] +inputs[3]*weights2[3]+bias2,\n",
        "          inputs[0]*weights3[0] + inputs[1]*weights3[1] + inputs[2]*weights3[2] +inputs[3]*weights3[3]+bias3]\n",
        "\n",
        "\n",
        "output"
      ],
      "execution_count": 21,
      "outputs": [
        {
          "output_type": "execute_result",
          "data": {
            "text/plain": [
              "[4.8, 1.21, 2.385]"
            ]
          },
          "metadata": {},
          "execution_count": 21
        }
      ]
    },
    {
      "cell_type": "code",
      "metadata": {
        "id": "QbyY6Osy6xyI",
        "colab": {
          "base_uri": "https://localhost:8080/"
        },
        "outputId": "23f62ae3-faad-4ef9-920c-20fd45faf504"
      },
      "source": [
        "inputs = [1,2,3, 2.5]\n",
        "weights = [[0.2,0.8,-0.5,1],\n",
        "           [0.5,-0.91,0.26,-0.5],\n",
        "           [-0.26,-0.27,0.17,0.87]]\n",
        "biases =  [2, 3, 0.5]\n",
        "\n",
        "layer_output = []\n",
        "\n",
        "for neuron_weights, neuron_bias in zip(weights,biases):\n",
        "  neuron_output = 0\n",
        "  for n_input,weight in zip(inputs,neuron_weights):\n",
        "    neuron_output += n_input*weight\n",
        "  neuron_output += neuron_bias\n",
        "  layer_output.append(neuron_output)\n",
        "layer_output\n",
        "\n",
        "\n",
        "\n"
      ],
      "execution_count": 22,
      "outputs": [
        {
          "output_type": "execute_result",
          "data": {
            "text/plain": [
              "[4.8, 1.21, 2.385]"
            ]
          },
          "metadata": {},
          "execution_count": 22
        }
      ]
    },
    {
      "cell_type": "markdown",
      "metadata": {
        "id": "zmIW6-9-jmCQ"
      },
      "source": [
        "# Shapes and types of Data"
      ]
    },
    {
      "cell_type": "code",
      "metadata": {
        "colab": {
          "base_uri": "https://localhost:8080/"
        },
        "id": "SZ2mlv3QavGS",
        "outputId": "8f416cec-edbc-4610-ee1b-1d97eac7b46f"
      },
      "source": [
        "# list or 1 D array or a Vector\n",
        "\n",
        "l = [1,2,3,4]\n",
        "np.shape(l)\n"
      ],
      "execution_count": 23,
      "outputs": [
        {
          "output_type": "execute_result",
          "data": {
            "text/plain": [
              "(4,)"
            ]
          },
          "metadata": {},
          "execution_count": 23
        }
      ]
    },
    {
      "cell_type": "code",
      "metadata": {
        "colab": {
          "base_uri": "https://localhost:8080/"
        },
        "id": "ZPKZMa10avJR",
        "outputId": "45185bf7-d081-4a89-eb0f-dbe2887c7918"
      },
      "source": [
        "# List of List or 2 D Array or a Matrix\n",
        "\n",
        "lol=[[1,2,3,4],[2,3,4,5]]\n",
        "np.shape(lol)\n"
      ],
      "execution_count": 24,
      "outputs": [
        {
          "output_type": "execute_result",
          "data": {
            "text/plain": [
              "(2, 4)"
            ]
          },
          "metadata": {},
          "execution_count": 24
        }
      ]
    },
    {
      "cell_type": "code",
      "metadata": {
        "colab": {
          "base_uri": "https://localhost:8080/"
        },
        "id": "tcFCpm8mavL-",
        "outputId": "5553875c-f934-4224-cdb6-6bcb428cfd9f"
      },
      "source": [
        "## List of List of List or 3 D Array \n",
        "\n",
        "lolol = [[[1,2,3],[3,4,5]],[[2,3,4],[4,5,6]]]\n",
        "np.shape(lolol)\n"
      ],
      "execution_count": 25,
      "outputs": [
        {
          "output_type": "execute_result",
          "data": {
            "text/plain": [
              "(2, 2, 3)"
            ]
          },
          "metadata": {},
          "execution_count": 25
        }
      ]
    },
    {
      "cell_type": "code",
      "metadata": {
        "id": "vKHzz3lIavO7"
      },
      "source": [
        "###  Tensors are objects that can be treated and are dealt as array while programming"
      ],
      "execution_count": 26,
      "outputs": []
    },
    {
      "cell_type": "markdown",
      "metadata": {
        "id": "ElvOTpeTjtri"
      },
      "source": [
        "# Matrix Dot multiplication"
      ]
    },
    {
      "cell_type": "code",
      "metadata": {
        "colab": {
          "base_uri": "https://localhost:8080/"
        },
        "id": "UeEzH2AwavRx",
        "outputId": "490b90cd-e59a-471b-af70-4160e0807ff6"
      },
      "source": [
        "# Dot Product\n",
        "\n",
        "inputs = np.array([1,2,3, 2.5])\n",
        "weights = np.array([0.2,0.8,-0.5,1])\n",
        "bias= 2\n",
        "\n",
        "output = np.dot(weights, inputs) + bias\n",
        "output"
      ],
      "execution_count": 32,
      "outputs": [
        {
          "output_type": "execute_result",
          "data": {
            "text/plain": [
              "4.799999952316284"
            ]
          },
          "metadata": {},
          "execution_count": 32
        }
      ]
    },
    {
      "cell_type": "code",
      "metadata": {
        "colab": {
          "base_uri": "https://localhost:8080/"
        },
        "id": "MW4-OPVcavU1",
        "outputId": "89680f98-1a7d-4664-99da-88623c7c5c41"
      },
      "source": [
        "# Dot Product\n",
        "inputs = np.array([1,2,3, 2.5])\n",
        "weights = np.array([[0.2,0.8,-0.5,1],\n",
        "                    [0.5,-0.91,0.26,-0.5],\n",
        "                    [-0.26,-0.27,0.17,0.87]])\n",
        "biases =  [2, 3, 0.5]\n",
        "\n",
        "output = np.dot(weights,inputs)+biases\n",
        "output"
      ],
      "execution_count": 34,
      "outputs": [
        {
          "output_type": "execute_result",
          "data": {
            "text/plain": [
              "array([4.79999995, 1.21000004, 2.38499999])"
            ]
          },
          "metadata": {},
          "execution_count": 34
        }
      ]
    },
    {
      "cell_type": "code",
      "metadata": {
        "id": "xq3vtymG4oh8",
        "colab": {
          "base_uri": "https://localhost:8080/"
        },
        "outputId": "cf884102-ffc8-448e-ff91-0882134c6ac2"
      },
      "source": [
        "inputs = np.array([[1,2,3, 2.5],\n",
        "                  [2,5,-1,2],\n",
        "                  [-1.5,2.7,3.3,-0.8]])\n",
        "\n",
        "          \n",
        "weights = np.array([[0.2,0.8,-0.5,1],\n",
        "                  [0.5,-0.91,0.26,-0.5],\n",
        "                  [-0.26,-0.27,0.17,0.87]])\n",
        "biases =  [2, 3, 0.5]\n",
        "\n",
        "\n",
        "output = np.dot(inputs, np.array(weights).T) + biases\n",
        "output\n"
      ],
      "execution_count": 36,
      "outputs": [
        {
          "output_type": "execute_result",
          "data": {
            "text/plain": [
              "array([[ 4.79999995,  1.21000004,  2.38499999],\n",
              "       [ 8.9000001 , -1.80999994,  0.19999999],\n",
              "       [ 1.41000003,  1.051     ,  0.02599999]])"
            ]
          },
          "metadata": {},
          "execution_count": 36
        }
      ]
    },
    {
      "cell_type": "code",
      "metadata": {
        "colab": {
          "base_uri": "https://localhost:8080/"
        },
        "id": "_aUaP7iLh7Ys",
        "outputId": "a9fed329-1802-4508-8bf3-d5080db67267"
      },
      "source": [
        "inputs = [[1,2,3, 2.5],\n",
        "          [2,5,-1,2],\n",
        "          [-1.5,2.7,3.3,-0.8]]\n",
        "\n",
        "\n",
        "weights1 = [[0.2,0.8,-0.5,1],\n",
        "           [0.5,-0.91,0.26,-0.5],\n",
        "           [-0.26,-0.27,0.17,0.87]]\n",
        "biases1 =  [2, 3, 0.5]\n",
        "\n",
        "weights2 = [[0.1,-0.14,0.5],\n",
        "           [-0.5,0.12,-0.33],\n",
        "           [-0.44,0.73,-0.13]]\n",
        "biases2 =  [-1, 2, -0.5]\n",
        "\n",
        "layer1 = np.dot(np.array(inputs), np.array(weights1).T) + biases1\n",
        "output = np.dot(layer1, np.array(weights2).T) + biases2\n",
        "\n",
        "output "
      ],
      "execution_count": 38,
      "outputs": [
        {
          "output_type": "execute_result",
          "data": {
            "text/plain": [
              "array([[ 0.50310004, -1.04184985, -2.03874993],\n",
              "       [ 0.24339998, -2.73320007, -5.76329994],\n",
              "       [-0.99314   ,  1.41254002, -0.35655001]])"
            ]
          },
          "metadata": {},
          "execution_count": 38
        }
      ]
    },
    {
      "cell_type": "markdown",
      "metadata": {
        "id": "C-MSCljvrOA-"
      },
      "source": [
        "\n",
        "\n",
        "```\n",
        "# This is formatted as code\n",
        "```\n",
        "\n",
        "# Dense Layer Class"
      ]
    },
    {
      "cell_type": "code",
      "metadata": {
        "id": "56F4_248h7b_"
      },
      "source": [
        "np.random.seed(0)\n",
        "\n",
        "X = [[1,2,3, 2.5],\n",
        "     [2,5,-1,2],\n",
        "     [-1.5,2.7,3.3,-0.8]]\n",
        "\n",
        "class Layer_Dense:\n",
        "  def __init__(self, n_inputs, n_neurons):\n",
        "    self.weights = 0.1 * np.random.randn(n_inputs, n_neurons )\n",
        "    self.biases = np.zeros((1, n_neurons))\n",
        "  def forward(self, inputs):\n",
        "    self.output = np.dot(inputs, self.weights) + self.biases\n"
      ],
      "execution_count": 40,
      "outputs": []
    },
    {
      "cell_type": "code",
      "metadata": {
        "colab": {
          "base_uri": "https://localhost:8080/"
        },
        "id": "-sAxvdhph7f7",
        "outputId": "429b7397-6fa9-41bb-d502-6523c05888f4"
      },
      "source": [
        "layer1 = Layer_Dense(4,5)\n",
        "layer2 = Layer_Dense(5,2)\n",
        "\n",
        "layer1.forward(np.array(X))\n",
        "layer1.output\n",
        "layer2.forward(layer1.output)\n",
        "layer2.output"
      ],
      "execution_count": 42,
      "outputs": [
        {
          "output_type": "execute_result",
          "data": {
            "text/plain": [
              "array([[ 0.07600386,  0.04015066],\n",
              "       [-0.03707247, -0.0575363 ],\n",
              "       [ 0.04924432,  0.02825296]], dtype=float32)"
            ]
          },
          "metadata": {},
          "execution_count": 42
        }
      ]
    },
    {
      "cell_type": "markdown",
      "metadata": {
        "id": "h1Ji7UhFwa7-"
      },
      "source": [
        "# Activation Function"
      ]
    },
    {
      "cell_type": "code",
      "metadata": {
        "colab": {
          "base_uri": "https://localhost:8080/"
        },
        "id": "Q7gqCq1sx25z",
        "outputId": "68c8adab-8589-453c-f93d-b0ae73617eb8"
      },
      "source": [
        "inputs = [0,2,-1,3.3,-2.7,1.1,2.2,-100]\n",
        "output = []\n",
        "'''\n",
        "for i in inputs:\n",
        "  if i>0:\n",
        "    output.append(i)\n",
        "  elif i<=0:\n",
        "    output.append(0)\n",
        "'''\n",
        "for i in inputs:\n",
        "  output.append(max(0,i))\n",
        "\n",
        "print(output)"
      ],
      "execution_count": 44,
      "outputs": [
        {
          "output_type": "stream",
          "name": "stdout",
          "text": [
            "[0, 2, 0, 3.3, 0, 1.1, 2.2, 0]\n"
          ]
        }
      ]
    },
    {
      "cell_type": "code",
      "metadata": {
        "id": "n8D2XUp-yXwm"
      },
      "source": [
        "class Activation_ReLU:\n",
        "    def forward(self, inputs):\n",
        "        self.output = np.maximum(0, inputs)"
      ],
      "execution_count": 45,
      "outputs": []
    },
    {
      "cell_type": "code",
      "metadata": {
        "colab": {
          "base_uri": "https://localhost:8080/"
        },
        "id": "45Xk2eqCyX4p",
        "outputId": "2872e10c-af13-4ac1-a602-26643cb95bcf"
      },
      "source": [
        "layer1 = Layer_Dense(4,5)\n",
        "activation1 = Activation_ReLU()\n",
        "\n",
        "layer1.forward(np.array(X))\n",
        "activation1.forward(layer1.output)\n",
        "activation1.output"
      ],
      "execution_count": 48,
      "outputs": [
        {
          "output_type": "execute_result",
          "data": {
            "text/plain": [
              "array([[0.31835306, 0.6951971 , 0.5195314 , 0.        , 0.5671228 ],\n",
              "       [0.89654696, 0.6494106 , 0.3395167 , 0.        , 0.8696375 ],\n",
              "       [0.4970883 , 0.5857134 , 0.        , 0.25347126, 0.1469059 ]],\n",
              "      dtype=float32)"
            ]
          },
          "metadata": {},
          "execution_count": 48
        }
      ]
    },
    {
      "cell_type": "markdown",
      "metadata": {
        "id": "h6ChWqGn3tBI"
      },
      "source": [
        "# Code From Github"
      ]
    },
    {
      "cell_type": "code",
      "metadata": {
        "colab": {
          "base_uri": "https://localhost:8080/",
          "height": 265
        },
        "id": "fTbDhFSGxXjL",
        "outputId": "a40af7b1-9f8c-4210-82ee-7008ebe9887a"
      },
      "source": [
        "def spiral_data(points, classes):\n",
        "    X = np.zeros((points*classes, 2))\n",
        "    y = np.zeros(points*classes, dtype='uint8')\n",
        "    for class_number in range(classes):\n",
        "        ix = range(points*class_number, points*(class_number+1))\n",
        "        r = np.linspace(0.0, 1, points)  # radius\n",
        "        t = np.linspace(class_number*4, (class_number+1)*4, points) + np.random.randn(points)*0.2\n",
        "        X[ix] = np.c_[r*np.sin(t*2.5), r*np.cos(t*2.5)]\n",
        "        y[ix] = class_number\n",
        "    return X, y\n",
        "\n",
        "X,y = spiral_data( 100,3)\n",
        "import matplotlib.pyplot as plt\n",
        "plt.plot(X,y)\n",
        "plt.show()"
      ],
      "execution_count": 51,
      "outputs": [
        {
          "output_type": "display_data",
          "data": {
            "image/png": "[encoded data removed]",
            "text/plain": [
              "<Figure size 432x288 with 1 Axes>"
            ]
          },
          "metadata": {
            "needs_background": "light"
          }
        }
      ]
    },
    {
      "cell_type": "code",
      "metadata": {
        "colab": {
          "base_uri": "https://localhost:8080/"
        },
        "id": "3PuNFOumqYIJ",
        "outputId": "1bac0386-1de2-4d8d-8fba-d6dd1d45e8cf"
      },
      "source": [
        "import numpy as np \n",
        "import nnfs\n",
        "from nnfs.datasets import spiral_data  # See for code: https://gist.github.com/Sentdex/454cb20ec5acf0e76ee8ab8448e6266c\n",
        "\n",
        "nnfs.init()\n",
        "\n",
        "X, y = spiral_data(100, 3)   \n",
        "\n",
        "\n",
        "class Layer_Dense:\n",
        "    def __init__(self, n_inputs, n_neurons):\n",
        "        self.weights = 0.10 * np.random.randn(n_inputs, n_neurons)\n",
        "        self.biases = np.zeros((1, n_neurons))\n",
        "    def forward(self, inputs):\n",
        "        self.output = np.dot(inputs, self.weights) + self.biases\n",
        "\n",
        "\n",
        "class Activation_ReLU:\n",
        "    def forward(self, inputs):\n",
        "        self.output = np.maximum(0, inputs)\n",
        "\n",
        "\n",
        "layer1 = Layer_Dense(2,5)\n",
        "activation1 = Activation_ReLU()\n",
        "\n",
        "layer1.forward(X)\n",
        "\n",
        "#print(layer1.output)\n",
        "activation1.forward(layer1.output)\n",
        "activation1.output"
      ],
      "execution_count": 52,
      "outputs": [
        {
          "output_type": "execute_result",
          "data": {
            "text/plain": [
              "array([[0.00000000e+00, 0.00000000e+00, 0.00000000e+00, 0.00000000e+00,\n",
              "        0.00000000e+00],\n",
              "       [0.00000000e+00, 0.00000000e+00, 0.00000000e+00, 4.65504505e-04,\n",
              "        4.56846210e-05],\n",
              "       [0.00000000e+00, 5.93469958e-05, 0.00000000e+00, 2.03573116e-04,\n",
              "        6.10024377e-04],\n",
              "       ...,\n",
              "       [1.13291524e-01, 0.00000000e+00, 0.00000000e+00, 8.11079666e-02,\n",
              "        0.00000000e+00],\n",
              "       [1.34588361e-01, 0.00000000e+00, 3.09493970e-02, 5.66337556e-02,\n",
              "        0.00000000e+00],\n",
              "       [1.07817926e-01, 0.00000000e+00, 0.00000000e+00, 8.72561932e-02,\n",
              "        0.00000000e+00]], dtype=float32)"
            ]
          },
          "metadata": {},
          "execution_count": 52
        }
      ]
    },
    {
      "cell_type": "markdown",
      "metadata": {
        "id": "UQT6iU3S4PgG"
      },
      "source": [
        "# SoftMax Activation "
      ]
    },
    {
      "cell_type": "code",
      "metadata": {
        "colab": {
          "base_uri": "https://localhost:8080/"
        },
        "id": "DFYm2m2Qwf3R",
        "outputId": "4570a375-7524-4ac7-fddf-69073ceaeb0d"
      },
      "source": [
        "layer_output"
      ],
      "execution_count": 53,
      "outputs": [
        {
          "output_type": "execute_result",
          "data": {
            "text/plain": [
              "[4.8, 1.21, 2.385]"
            ]
          },
          "metadata": {},
          "execution_count": 53
        }
      ]
    },
    {
      "cell_type": "code",
      "metadata": {
        "colab": {
          "base_uri": "https://localhost:8080/"
        },
        "id": "J2bUehbK47k_",
        "outputId": "00d20979-49d2-48a9-db50-605d60f9f428"
      },
      "source": [
        "import math\n",
        "E= math.e\n",
        "E"
      ],
      "execution_count": 54,
      "outputs": [
        {
          "output_type": "execute_result",
          "data": {
            "text/plain": [
              "2.718281828459045"
            ]
          },
          "metadata": {},
          "execution_count": 54
        }
      ]
    },
    {
      "cell_type": "code",
      "metadata": {
        "colab": {
          "base_uri": "https://localhost:8080/"
        },
        "id": "sTF0VwUF47hg",
        "outputId": "d0fadd9b-7023-438f-fcaf-1128e8496576"
      },
      "source": [
        "exp_values = []\n",
        "'''\n",
        "for output in layer_output:\n",
        "  exp_values.append(E**output)\n",
        "norm_base = sum(exp_values)\n",
        "norm_values = []\n",
        "for value in exp_values:\n",
        "  norm_values.append(value / norm_base)\n",
        "'''\n",
        "exp_values = np.exp(layer_output)\n",
        "norm_values= exp_values/np.sum(exp_values)\n",
        "\n",
        "print(norm_values)\n",
        "print('sum of normalized values (probability distributions) adds upto', sum(norm_values))\n"
      ],
      "execution_count": 55,
      "outputs": [
        {
          "output_type": "stream",
          "name": "stdout",
          "text": [
            "[0.89528266 0.02470831 0.08000903]\n",
            "sum of normalized values (probability distributions) adds upto 0.9999999999999999\n"
          ]
        }
      ]
    },
    {
      "cell_type": "code",
      "metadata": {
        "id": "02EbgXWbwf6F"
      },
      "source": [
        "class Activation_Softmax:\n",
        "  def forward(self,inputs):\n",
        "    exp_values= np.exp(inputs - np.max(inputs,axis=1,keepdims=True))\n",
        "    probabilities = exp_values/np.sum(exp_values,axis=1,keepdims=True)\n",
        "    self.output = probabilities"
      ],
      "execution_count": 56,
      "outputs": []
    },
    {
      "cell_type": "markdown",
      "metadata": {
        "id": "9SpKuEHjARbk"
      },
      "source": [
        "# Getting Output of probabilities for the 3 classes as in the spiral datasets"
      ]
    },
    {
      "cell_type": "code",
      "metadata": {
        "colab": {
          "base_uri": "https://localhost:8080/"
        },
        "id": "gsfSiqP26jwG",
        "outputId": "b48a4566-391e-4abe-9e47-a9bdf5da885b"
      },
      "source": [
        "dense1 = Layer_Dense(2,3)\n",
        "activation1 = Activation_ReLU()\n",
        "\n",
        "dense2 = Layer_Dense(3,3)\n",
        "activation2 = Activation_Softmax()\n",
        "\n",
        "dense1.forward(X)\n",
        "activation1.forward(dense1.output)\n",
        "\n",
        "dense2.forward(activation1.output)\n",
        "activation2.forward(dense2.output)\n",
        "\n",
        "print(activation2.output[:5])"
      ],
      "execution_count": 57,
      "outputs": [
        {
          "output_type": "stream",
          "name": "stdout",
          "text": [
            "[[0.33333334 0.33333334 0.33333334]\n",
            " [0.33333334 0.33333334 0.33333334]\n",
            " [0.33334488 0.33332878 0.33332634]\n",
            " [0.33337817 0.3333157  0.33330616]\n",
            " [0.33339015 0.333311   0.3332989 ]]\n"
          ]
        }
      ]
    },
    {
      "cell_type": "markdown",
      "metadata": {
        "id": "h9Q-7eWlAcgp"
      },
      "source": [
        "# Loss Function"
      ]
    },
    {
      "cell_type": "code",
      "metadata": {
        "id": "_U5-vAe96jzT"
      },
      "source": [
        "import math"
      ],
      "execution_count": 58,
      "outputs": []
    },
    {
      "cell_type": "code",
      "metadata": {
        "colab": {
          "base_uri": "https://localhost:8080/"
        },
        "id": "Oo0FmqoT6j10",
        "outputId": "5d196464-9565-422a-dc6d-0534bc9dd4f7"
      },
      "source": [
        "softmax_output = [0.7,0.1,0.2]\n",
        "target_output = [1,0,0]\n",
        "\n",
        "loss = -(math.log(softmax_output[0])*target_output[0]+\n",
        "         math.log(softmax_output[1])*target_output[1]+\n",
        "         math.log(softmax_output[2])*target_output[2])\n",
        "\n",
        "loss\n"
      ],
      "execution_count": 59,
      "outputs": [
        {
          "output_type": "execute_result",
          "data": {
            "text/plain": [
              "0.35667494393873245"
            ]
          },
          "metadata": {},
          "execution_count": 59
        }
      ]
    },
    {
      "cell_type": "markdown",
      "metadata": {
        "id": "LEpOH1KPFW86"
      },
      "source": [
        "# Implementing Loss Fn"
      ]
    },
    {
      "cell_type": "code",
      "metadata": {
        "colab": {
          "base_uri": "https://localhost:8080/"
        },
        "id": "PAg9TmXCFcw_",
        "outputId": "7e6a9321-6703-479a-b229-c7e3e134460b"
      },
      "source": [
        "softmax_output = np.array([[0.7,0.1,0.2],\n",
        "                          [0.1,0.5,0.4],\n",
        "                          [0.02,0.9,0.08]])\n",
        "\n",
        "class_target = [0,1,1]\n",
        "\n",
        "#range(len(softmax_output)) == [0,1,2]\n",
        "print(-np.log(softmax_output[range(len(softmax_output)),[class_target]]))"
      ],
      "execution_count": 60,
      "outputs": [
        {
          "output_type": "stream",
          "name": "stdout",
          "text": [
            "[[0.35667494 0.69314718 0.10536052]]\n"
          ]
        }
      ]
    },
    {
      "cell_type": "code",
      "metadata": {
        "id": "Vu42Ou2z6kLJ"
      },
      "source": [
        "class Loss:\n",
        "  def calculate(self,output,y):\n",
        "    sample_losses = self.forward(output, y)\n",
        "    data_loss = np.mean(sample_losses)\n",
        "    return data_loss\n",
        "\n",
        "class loss_CategoricalCrossEntropy(Loss):\n",
        "  def forward(self, y_pred, y_true):\n",
        "    sample = len(y_pred)\n",
        "    y_pred_clipped = np.clip(y_pred, 1e-7, 1-1e-7)   # To Avoid log(0) = Infinity\n",
        "    if len(y_true.shape == 1):\n",
        "      correct_confidences = y_pred_clipped[range(samples), y_true]\n",
        "    elif len(y_true.shape ==2):\n",
        "      correct_confidences = np.sum(y_pred_clipped*y_true, axis =1)\n",
        "\n",
        "    negative_log_likelihood = -np.log(correct_confidences)\n",
        "    return negative_log_likelihood"
      ],
      "execution_count": 61,
      "outputs": []
    },
    {
      "cell_type": "markdown",
      "metadata": {
        "id": "fZLLTjEzq4_X"
      },
      "source": [
        "# Ep 8\n"
      ]
    },
    {
      "cell_type": "code",
      "metadata": {
        "id": "YhupOx5drHK3",
        "outputId": "97c5b054-960a-4b85-d65d-971305c5d5cf",
        "colab": {
          "base_uri": "https://localhost:8080/"
        }
      },
      "source": [
        "!pip install nnfs"
      ],
      "execution_count": 62,
      "outputs": [
        {
          "output_type": "stream",
          "name": "stdout",
          "text": [
            "Requirement already satisfied: nnfs in /usr/local/lib/python3.7/dist-packages (0.5.1)\n",
            "Requirement already satisfied: numpy in /usr/local/lib/python3.7/dist-packages (from nnfs) (1.19.5)\n"
          ]
        }
      ]
    },
    {
      "cell_type": "code",
      "metadata": {
        "colab": {
          "base_uri": "https://localhost:8080/"
        },
        "id": "xj3N6tOkWMgQ",
        "outputId": "b9263533-aeff-493d-cfb0-9fdf2dfa1ea9"
      },
      "source": [
        "\"\"\"\n",
        "Applying Categorical Cross Entropy loss to our NNFS framework\n",
        "Associated with YT NNFS tutorial: https://www.youtube.com/watch?v=levekYbxauw&list=PLQVvvaa0QuDcjD5BAw2DxE6OF2tius3V3&index=8\n",
        "\"\"\"\n",
        "\n",
        "import numpy as np \n",
        "import nnfs\n",
        "from nnfs.datasets import spiral_data\n",
        "\n",
        "\n",
        "nnfs.init()\n",
        "\n",
        "class Layer_Dense:\n",
        "    def __init__(self, n_inputs, n_neurons):\n",
        "        self.weights = 0.01 * np.random.randn(n_inputs, n_neurons)\n",
        "        self.biases = np.zeros((1, n_neurons))\n",
        "    def forward(self, inputs):\n",
        "        self.output = np.dot(inputs, self.weights) + self.biases\n",
        "\n",
        "\n",
        "class Activation_ReLU:\n",
        "    def forward(self, inputs):\n",
        "        self.output = np.maximum(0, inputs)\n",
        "\n",
        "class Activation_Softmax:\n",
        "    def forward(self, inputs):\n",
        "        exp_values = np.exp(inputs - np.max(inputs, axis=1, keepdims=True))\n",
        "        probabilities = exp_values / np.sum(exp_values, axis=1, keepdims=True)\n",
        "        self.output = probabilities\n",
        "\n",
        "class Loss:\n",
        "    def calculate(self, output, y):\n",
        "        sample_losses = self.forward(output, y)\n",
        "        data_loss = np.mean(sample_losses)\n",
        "        return data_loss\n",
        "\n",
        "class Loss_CategoricalCrossentropy(Loss):\n",
        "    def forward(self, y_pred, y_true):\n",
        "        samples = len(y_pred)\n",
        "        y_pred_clipped = np.clip(y_pred, 1e-7, 1-1e-7)\n",
        "\n",
        "        if len(y_true.shape) == 1:\n",
        "            correct_confidences = y_pred_clipped[range(samples), y_true]\n",
        "\n",
        "        elif len(y_true.shape) == 2:\n",
        "            correct_confidences = np.sum(y_pred_clipped*y_true, axis=1)\n",
        "\n",
        "        negative_log_likelihoods = -np.log(correct_confidences)\n",
        "        return negative_log_likelihoods\n",
        "\n",
        "\n",
        "\n",
        "\n",
        "X, y = spiral_data(samples=100, classes=3)\n",
        "\n",
        "dense1 = Layer_Dense(2,3)\n",
        "activation1 = Activation_ReLU()\n",
        "\n",
        "dense2 = Layer_Dense(3, 3)\n",
        "activation2 = Activation_Softmax()\n",
        "\n",
        "dense1.forward(X)\n",
        "activation1.forward(dense1.output)\n",
        "\n",
        "dense2.forward(activation1.output)\n",
        "activation2.forward(dense2.output)\n",
        "\n",
        "print(activation2.output[:5])\n",
        "\n",
        "loss_function = Loss_CategoricalCrossentropy()\n",
        "loss = loss_function.calculate(activation2.output, y)\n",
        "\n",
        "print(\"Loss:\", loss)"
      ],
      "execution_count": 63,
      "outputs": [
        {
          "output_type": "stream",
          "name": "stdout",
          "text": [
            "[[0.33333334 0.33333334 0.33333334]\n",
            " [0.3333332  0.3333332  0.33333364]\n",
            " [0.3333329  0.33333293 0.3333342 ]\n",
            " [0.3333326  0.33333263 0.33333477]\n",
            " [0.33333233 0.3333324  0.33333528]]\n",
            "Loss: 1.0986104\n"
          ]
        }
      ]
    },
    {
      "cell_type": "markdown",
      "metadata": {
        "id": "Ef4ocgKywxuf"
      },
      "source": [
        "# EP 9\n"
      ]
    },
    {
      "cell_type": "code",
      "metadata": {
        "colab": {
          "base_uri": "https://localhost:8080/",
          "height": 265
        },
        "id": "vCqppKLAWMSR",
        "outputId": "41e2c542-921b-462e-b699-e5caa67c6629"
      },
      "source": [
        "import matplotlib.pyplot as plt\n",
        "import nnfs\n",
        "from nnfs.datasets import vertical_data,spiral_data\n",
        "\n",
        "nnfs.init()\n",
        "\n",
        "X, y = vertical_data(samples=100 , classes =3)\n",
        "\n",
        "plt.scatter(X[:,0], X[:,1],c = y, s = 40, cmap = 'brg')\n",
        "plt.show()"
      ],
      "execution_count": 64,
      "outputs": [
        {
          "output_type": "display_data",
          "data": {
            "image/png": "[encoded data removed]",
            "text/plain": [
              "<Figure size 432x288 with 1 Axes>"
            ]
          },
          "metadata": {
            "needs_background": "light"
          }
        }
      ]
    },
    {
      "cell_type": "code",
      "metadata": {
        "id": "l1B_68mm6kSP",
        "colab": {
          "base_uri": "https://localhost:8080/"
        },
        "outputId": "382f75c3-80ac-41f0-d2bb-7e0f06b4713a"
      },
      "source": [
        "dense1 = Layer_Dense(2,3)\n",
        "activation1 = Activation_ReLU()\n",
        "dense2 = Layer_Dense(3,3)\n",
        "activation2 = Activation_Softmax()\n",
        "\n",
        "loss_function = Loss_CategoricalCrossentropy()\n",
        "\n",
        "lowest_loss = 9999999\n",
        "\n",
        "best_dense1_weights = dense1.weights.copy()\n",
        "best_dense1_biases = dense1.biases.copy()\n",
        "best_dense2_weights = dense2.weights.copy()\n",
        "best_dense2_biases = dense2.biases.copy()\n",
        "\n",
        "for iteration in range(100000):\n",
        "  dense1.weights += 0.05 * np.random.randn(2, 3)\n",
        "  dense1.biases += 0.05 * np.random.randn(1, 3)\n",
        "  dense2.weights += 0.05 * np.random.randn(3, 3)\n",
        "  dense2.biases += 0.05 * np.random.randn(1, 3)\n",
        "\n",
        "\n",
        "  dense1.forward(X)\n",
        "  activation1.forward(dense1.output)\n",
        "  dense2.forward(activation1.output)\n",
        "  activation2.forward(dense2.output)\n",
        "\n",
        "  loss = loss_function.calculate(activation2.output, y)\n",
        "\n",
        "  predictions = np.argmax(activation2.output, axis=1)\n",
        "  accuracy = np.mean(predictions==y)\n",
        "\n",
        "  if loss < lowest_loss:\n",
        "    print('New set of weights found, iteration:', iteration,\n",
        "          'loss:', loss,\n",
        "          'acc:', accuracy)\n",
        "    best_dense1_weights = dense1.weights.copy()\n",
        "    best_dense1_biases = dense1.biases.copy()\n",
        "    best_dense2_weights = dense2.weights.copy()\n",
        "    best_dense2_biases = dense2.biases.copy()\n",
        "    lowest_loss = loss\n",
        "\n",
        "  else:\n",
        "    dense1.weights = best_dense1_weights.copy()\n",
        "    dense1.biases = best_dense1_biases.copy()\n",
        "    dense2.weights = best_dense2_weights.copy()\n",
        "    dense2.biases = best_dense2_biases.copy()\n",
        "\n",
        "\n"
      ],
      "execution_count": 67,
      "outputs": [
        {
          "output_type": "stream",
          "name": "stdout",
          "text": [
            "New set of weights found, iteration: 0 loss: 1.0977969 acc: 0.3333333333333333\n",
            "New set of weights found, iteration: 1 loss: 1.0975069 acc: 0.3333333333333333\n",
            "New set of weights found, iteration: 2 loss: 1.0965668 acc: 0.3333333333333333\n",
            "New set of weights found, iteration: 7 loss: 1.0936854 acc: 0.3333333333333333\n",
            "New set of weights found, iteration: 8 loss: 1.0934837 acc: 0.3333333333333333\n",
            "New set of weights found, iteration: 9 loss: 1.092784 acc: 0.4633333333333333\n",
            "New set of weights found, iteration: 10 loss: 1.0900435 acc: 0.5566666666666666\n",
            "New set of weights found, iteration: 20 loss: 1.0893273 acc: 0.46\n",
            "New set of weights found, iteration: 25 loss: 1.089252 acc: 0.6533333333333333\n",
            "New set of weights found, iteration: 26 loss: 1.0882338 acc: 0.43\n",
            "New set of weights found, iteration: 27 loss: 1.0840526 acc: 0.3333333333333333\n",
            "New set of weights found, iteration: 28 loss: 1.0836585 acc: 0.4166666666666667\n",
            "New set of weights found, iteration: 29 loss: 1.0820364 acc: 0.33666666666666667\n",
            "New set of weights found, iteration: 30 loss: 1.0785742 acc: 0.4766666666666667\n",
            "New set of weights found, iteration: 32 loss: 1.0739428 acc: 0.6533333333333333\n",
            "New set of weights found, iteration: 35 loss: 1.0710086 acc: 0.5533333333333333\n",
            "New set of weights found, iteration: 40 loss: 1.0686417 acc: 0.3333333333333333\n",
            "New set of weights found, iteration: 49 loss: 1.0686314 acc: 0.29\n",
            "New set of weights found, iteration: 51 loss: 1.0647945 acc: 0.3333333333333333\n",
            "New set of weights found, iteration: 54 loss: 1.0628215 acc: 0.33666666666666667\n",
            "New set of weights found, iteration: 59 loss: 1.0600171 acc: 0.3333333333333333\n",
            "New set of weights found, iteration: 61 loss: 1.0502303 acc: 0.39666666666666667\n",
            "New set of weights found, iteration: 63 loss: 1.0490308 acc: 0.83\n",
            "New set of weights found, iteration: 67 loss: 1.0399777 acc: 0.6666666666666666\n",
            "New set of weights found, iteration: 73 loss: 1.0398667 acc: 0.6666666666666666\n",
            "New set of weights found, iteration: 75 loss: 1.0372928 acc: 0.6466666666666666\n",
            "New set of weights found, iteration: 76 loss: 1.0362825 acc: 0.6466666666666666\n",
            "New set of weights found, iteration: 77 loss: 1.024434 acc: 0.59\n",
            "New set of weights found, iteration: 86 loss: 1.0158415 acc: 0.67\n",
            "New set of weights found, iteration: 88 loss: 1.0110061 acc: 0.6666666666666666\n",
            "New set of weights found, iteration: 91 loss: 1.0086077 acc: 0.6566666666666666\n",
            "New set of weights found, iteration: 95 loss: 1.0042083 acc: 0.6633333333333333\n",
            "New set of weights found, iteration: 97 loss: 0.9967207 acc: 0.6433333333333333\n",
            "New set of weights found, iteration: 99 loss: 0.98893005 acc: 0.6666666666666666\n",
            "New set of weights found, iteration: 100 loss: 0.98474956 acc: 0.6666666666666666\n",
            "New set of weights found, iteration: 104 loss: 0.9761544 acc: 0.6666666666666666\n",
            "New set of weights found, iteration: 105 loss: 0.9743814 acc: 0.67\n",
            "New set of weights found, iteration: 111 loss: 0.9610348 acc: 0.91\n",
            "New set of weights found, iteration: 112 loss: 0.9518788 acc: 0.77\n",
            "New set of weights found, iteration: 114 loss: 0.9460482 acc: 0.8833333333333333\n",
            "New set of weights found, iteration: 118 loss: 0.931628 acc: 0.7233333333333334\n",
            "New set of weights found, iteration: 119 loss: 0.92676413 acc: 0.66\n",
            "New set of weights found, iteration: 120 loss: 0.911811 acc: 0.68\n",
            "New set of weights found, iteration: 121 loss: 0.91117007 acc: 0.8733333333333333\n",
            "New set of weights found, iteration: 123 loss: 0.9042275 acc: 0.81\n",
            "New set of weights found, iteration: 126 loss: 0.89495414 acc: 0.75\n",
            "New set of weights found, iteration: 128 loss: 0.88853854 acc: 0.7366666666666667\n",
            "New set of weights found, iteration: 129 loss: 0.87472343 acc: 0.6666666666666666\n",
            "New set of weights found, iteration: 130 loss: 0.87308085 acc: 0.6666666666666666\n",
            "New set of weights found, iteration: 131 loss: 0.8709829 acc: 0.6633333333333333\n",
            "New set of weights found, iteration: 133 loss: 0.8667771 acc: 0.6666666666666666\n",
            "New set of weights found, iteration: 139 loss: 0.85387045 acc: 0.6666666666666666\n",
            "New set of weights found, iteration: 141 loss: 0.8436918 acc: 0.6633333333333333\n",
            "New set of weights found, iteration: 142 loss: 0.8380858 acc: 0.7633333333333333\n",
            "New set of weights found, iteration: 143 loss: 0.8365654 acc: 0.8266666666666667\n",
            "New set of weights found, iteration: 144 loss: 0.83464986 acc: 0.7233333333333334\n",
            "New set of weights found, iteration: 148 loss: 0.8311128 acc: 0.6633333333333333\n",
            "New set of weights found, iteration: 153 loss: 0.8278236 acc: 0.6733333333333333\n",
            "New set of weights found, iteration: 156 loss: 0.8181296 acc: 0.6666666666666666\n",
            "New set of weights found, iteration: 158 loss: 0.8078141 acc: 0.6633333333333333\n",
            "New set of weights found, iteration: 160 loss: 0.7935782 acc: 0.6633333333333333\n",
            "New set of weights found, iteration: 163 loss: 0.777499 acc: 0.7066666666666667\n",
            "New set of weights found, iteration: 165 loss: 0.77156776 acc: 0.7333333333333333\n",
            "New set of weights found, iteration: 167 loss: 0.7569504 acc: 0.8333333333333334\n",
            "New set of weights found, iteration: 169 loss: 0.7543053 acc: 0.9233333333333333\n",
            "New set of weights found, iteration: 172 loss: 0.7497629 acc: 0.8533333333333334\n",
            "New set of weights found, iteration: 180 loss: 0.74700505 acc: 0.8733333333333333\n",
            "New set of weights found, iteration: 185 loss: 0.74119157 acc: 0.8366666666666667\n",
            "New set of weights found, iteration: 188 loss: 0.72427917 acc: 0.87\n",
            "New set of weights found, iteration: 189 loss: 0.72278917 acc: 0.87\n",
            "New set of weights found, iteration: 190 loss: 0.7078452 acc: 0.8066666666666666\n",
            "New set of weights found, iteration: 194 loss: 0.6819037 acc: 0.83\n",
            "New set of weights found, iteration: 195 loss: 0.6788973 acc: 0.86\n",
            "New set of weights found, iteration: 197 loss: 0.66922057 acc: 0.8566666666666667\n",
            "New set of weights found, iteration: 199 loss: 0.6676987 acc: 0.8166666666666667\n",
            "New set of weights found, iteration: 200 loss: 0.6632267 acc: 0.7833333333333333\n",
            "New set of weights found, iteration: 201 loss: 0.6614995 acc: 0.8033333333333333\n",
            "New set of weights found, iteration: 206 loss: 0.65758914 acc: 0.8333333333333334\n",
            "New set of weights found, iteration: 207 loss: 0.6543868 acc: 0.84\n",
            "New set of weights found, iteration: 214 loss: 0.6530085 acc: 0.8566666666666667\n",
            "New set of weights found, iteration: 215 loss: 0.65202194 acc: 0.85\n",
            "New set of weights found, iteration: 216 loss: 0.6470915 acc: 0.8033333333333333\n",
            "New set of weights found, iteration: 217 loss: 0.64566094 acc: 0.8433333333333334\n",
            "New set of weights found, iteration: 219 loss: 0.6451527 acc: 0.82\n",
            "New set of weights found, iteration: 223 loss: 0.6436353 acc: 0.8333333333333334\n",
            "New set of weights found, iteration: 224 loss: 0.63854825 acc: 0.8033333333333333\n",
            "New set of weights found, iteration: 226 loss: 0.6378675 acc: 0.8366666666666667\n",
            "New set of weights found, iteration: 227 loss: 0.63010794 acc: 0.8266666666666667\n",
            "New set of weights found, iteration: 228 loss: 0.6287889 acc: 0.8\n",
            "New set of weights found, iteration: 229 loss: 0.6091179 acc: 0.8733333333333333\n",
            "New set of weights found, iteration: 231 loss: 0.5993952 acc: 0.8966666666666666\n",
            "New set of weights found, iteration: 240 loss: 0.5887961 acc: 0.89\n",
            "New set of weights found, iteration: 244 loss: 0.57910216 acc: 0.89\n",
            "New set of weights found, iteration: 247 loss: 0.57861334 acc: 0.8966666666666666\n",
            "New set of weights found, iteration: 252 loss: 0.5763371 acc: 0.8933333333333333\n",
            "New set of weights found, iteration: 255 loss: 0.57630116 acc: 0.8966666666666666\n",
            "New set of weights found, iteration: 258 loss: 0.5669134 acc: 0.9033333333333333\n",
            "New set of weights found, iteration: 259 loss: 0.56519544 acc: 0.9266666666666666\n",
            "New set of weights found, iteration: 267 loss: 0.551295 acc: 0.9166666666666666\n",
            "New set of weights found, iteration: 268 loss: 0.54828155 acc: 0.91\n",
            "New set of weights found, iteration: 273 loss: 0.54227304 acc: 0.8966666666666666\n",
            "New set of weights found, iteration: 277 loss: 0.5373308 acc: 0.9033333333333333\n",
            "New set of weights found, iteration: 280 loss: 0.5369053 acc: 0.91\n",
            "New set of weights found, iteration: 283 loss: 0.52798504 acc: 0.9166666666666666\n",
            "New set of weights found, iteration: 285 loss: 0.52082294 acc: 0.9233333333333333\n",
            "New set of weights found, iteration: 289 loss: 0.51582223 acc: 0.9133333333333333\n",
            "New set of weights found, iteration: 290 loss: 0.51541615 acc: 0.9133333333333333\n",
            "New set of weights found, iteration: 291 loss: 0.49352676 acc: 0.8933333333333333\n",
            "New set of weights found, iteration: 294 loss: 0.49122906 acc: 0.89\n",
            "New set of weights found, iteration: 297 loss: 0.48891643 acc: 0.88\n",
            "New set of weights found, iteration: 300 loss: 0.48035517 acc: 0.8666666666666667\n",
            "New set of weights found, iteration: 302 loss: 0.47721913 acc: 0.87\n",
            "New set of weights found, iteration: 303 loss: 0.47717753 acc: 0.87\n",
            "New set of weights found, iteration: 310 loss: 0.4680481 acc: 0.89\n",
            "New set of weights found, iteration: 314 loss: 0.4624012 acc: 0.8833333333333333\n",
            "New set of weights found, iteration: 326 loss: 0.4589083 acc: 0.8766666666666667\n",
            "New set of weights found, iteration: 327 loss: 0.45376334 acc: 0.89\n",
            "New set of weights found, iteration: 333 loss: 0.44392195 acc: 0.8866666666666667\n",
            "New set of weights found, iteration: 339 loss: 0.43067673 acc: 0.9033333333333333\n",
            "New set of weights found, iteration: 353 loss: 0.42743656 acc: 0.9133333333333333\n",
            "New set of weights found, iteration: 356 loss: 0.42014945 acc: 0.91\n",
            "New set of weights found, iteration: 363 loss: 0.4195391 acc: 0.9233333333333333\n",
            "New set of weights found, iteration: 367 loss: 0.4134988 acc: 0.9233333333333333\n",
            "New set of weights found, iteration: 371 loss: 0.4133437 acc: 0.9166666666666666\n",
            "New set of weights found, iteration: 377 loss: 0.41020995 acc: 0.9033333333333333\n",
            "New set of weights found, iteration: 378 loss: 0.40269718 acc: 0.9033333333333333\n",
            "New set of weights found, iteration: 379 loss: 0.3989989 acc: 0.9133333333333333\n",
            "New set of weights found, iteration: 380 loss: 0.39323446 acc: 0.9266666666666666\n",
            "New set of weights found, iteration: 383 loss: 0.3899663 acc: 0.9266666666666666\n",
            "New set of weights found, iteration: 389 loss: 0.38732654 acc: 0.9133333333333333\n",
            "New set of weights found, iteration: 394 loss: 0.38700157 acc: 0.9233333333333333\n",
            "New set of weights found, iteration: 397 loss: 0.38084492 acc: 0.9133333333333333\n",
            "New set of weights found, iteration: 399 loss: 0.3750556 acc: 0.9133333333333333\n",
            "New set of weights found, iteration: 403 loss: 0.3747167 acc: 0.9033333333333333\n",
            "New set of weights found, iteration: 413 loss: 0.37138748 acc: 0.9133333333333333\n",
            "New set of weights found, iteration: 421 loss: 0.36523718 acc: 0.9033333333333333\n",
            "New set of weights found, iteration: 427 loss: 0.3598951 acc: 0.9233333333333333\n",
            "New set of weights found, iteration: 431 loss: 0.35480702 acc: 0.9233333333333333\n",
            "New set of weights found, iteration: 433 loss: 0.35195822 acc: 0.92\n",
            "New set of weights found, iteration: 434 loss: 0.35070175 acc: 0.92\n",
            "New set of weights found, iteration: 435 loss: 0.34759545 acc: 0.9133333333333333\n",
            "New set of weights found, iteration: 437 loss: 0.3457425 acc: 0.9133333333333333\n",
            "New set of weights found, iteration: 439 loss: 0.34103176 acc: 0.9066666666666666\n",
            "New set of weights found, iteration: 440 loss: 0.33229044 acc: 0.9166666666666666\n",
            "New set of weights found, iteration: 443 loss: 0.33129597 acc: 0.91\n",
            "New set of weights found, iteration: 444 loss: 0.33095643 acc: 0.9166666666666666\n",
            "New set of weights found, iteration: 445 loss: 0.32666093 acc: 0.9166666666666666\n",
            "New set of weights found, iteration: 447 loss: 0.32190645 acc: 0.92\n",
            "New set of weights found, iteration: 452 loss: 0.3205721 acc: 0.9233333333333333\n",
            "New set of weights found, iteration: 460 loss: 0.3158032 acc: 0.9233333333333333\n",
            "New set of weights found, iteration: 462 loss: 0.31468523 acc: 0.9166666666666666\n",
            "New set of weights found, iteration: 465 loss: 0.30480427 acc: 0.92\n",
            "New set of weights found, iteration: 467 loss: 0.30330938 acc: 0.92\n",
            "New set of weights found, iteration: 473 loss: 0.3007978 acc: 0.92\n",
            "New set of weights found, iteration: 489 loss: 0.29884592 acc: 0.9133333333333333\n",
            "New set of weights found, iteration: 490 loss: 0.2969982 acc: 0.9233333333333333\n",
            "New set of weights found, iteration: 491 loss: 0.29337072 acc: 0.9266666666666666\n",
            "New set of weights found, iteration: 496 loss: 0.29111156 acc: 0.9233333333333333\n",
            "New set of weights found, iteration: 497 loss: 0.28797123 acc: 0.91\n",
            "New set of weights found, iteration: 507 loss: 0.28570566 acc: 0.92\n",
            "New set of weights found, iteration: 509 loss: 0.28181535 acc: 0.92\n",
            "New set of weights found, iteration: 517 loss: 0.27966213 acc: 0.9233333333333333\n",
            "New set of weights found, iteration: 520 loss: 0.27797043 acc: 0.92\n",
            "New set of weights found, iteration: 521 loss: 0.27514735 acc: 0.9166666666666666\n",
            "New set of weights found, iteration: 522 loss: 0.27290347 acc: 0.92\n",
            "New set of weights found, iteration: 528 loss: 0.26904735 acc: 0.92\n",
            "New set of weights found, iteration: 538 loss: 0.2646038 acc: 0.92\n",
            "New set of weights found, iteration: 547 loss: 0.26239783 acc: 0.9166666666666666\n",
            "New set of weights found, iteration: 553 loss: 0.26158985 acc: 0.9166666666666666\n",
            "New set of weights found, iteration: 557 loss: 0.26008636 acc: 0.9166666666666666\n",
            "New set of weights found, iteration: 560 loss: 0.25426093 acc: 0.9133333333333333\n",
            "New set of weights found, iteration: 570 loss: 0.2529027 acc: 0.9266666666666666\n",
            "New set of weights found, iteration: 572 loss: 0.2494987 acc: 0.92\n",
            "New set of weights found, iteration: 577 loss: 0.24697433 acc: 0.92\n",
            "New set of weights found, iteration: 582 loss: 0.24689199 acc: 0.92\n",
            "New set of weights found, iteration: 586 loss: 0.24281792 acc: 0.92\n",
            "New set of weights found, iteration: 589 loss: 0.24013372 acc: 0.9266666666666666\n",
            "New set of weights found, iteration: 594 loss: 0.23758198 acc: 0.9233333333333333\n",
            "New set of weights found, iteration: 596 loss: 0.23708203 acc: 0.9233333333333333\n",
            "New set of weights found, iteration: 597 loss: 0.23648536 acc: 0.9133333333333333\n",
            "New set of weights found, iteration: 598 loss: 0.22987416 acc: 0.92\n",
            "New set of weights found, iteration: 599 loss: 0.22956218 acc: 0.92\n",
            "New set of weights found, iteration: 601 loss: 0.22700068 acc: 0.9233333333333333\n",
            "New set of weights found, iteration: 602 loss: 0.2223604 acc: 0.9233333333333333\n",
            "New set of weights found, iteration: 607 loss: 0.22177872 acc: 0.9233333333333333\n",
            "New set of weights found, iteration: 609 loss: 0.22163485 acc: 0.9133333333333333\n",
            "New set of weights found, iteration: 611 loss: 0.21978112 acc: 0.9233333333333333\n",
            "New set of weights found, iteration: 615 loss: 0.21892655 acc: 0.92\n",
            "New set of weights found, iteration: 617 loss: 0.21772179 acc: 0.91\n",
            "New set of weights found, iteration: 620 loss: 0.21723248 acc: 0.91\n",
            "New set of weights found, iteration: 621 loss: 0.21185422 acc: 0.9266666666666666\n",
            "New set of weights found, iteration: 626 loss: 0.21151273 acc: 0.9166666666666666\n",
            "New set of weights found, iteration: 629 loss: 0.20952171 acc: 0.9233333333333333\n",
            "New set of weights found, iteration: 631 loss: 0.2083944 acc: 0.9233333333333333\n",
            "New set of weights found, iteration: 635 loss: 0.20645079 acc: 0.9233333333333333\n",
            "New set of weights found, iteration: 636 loss: 0.2048772 acc: 0.9166666666666666\n",
            "New set of weights found, iteration: 651 loss: 0.20381294 acc: 0.9266666666666666\n",
            "New set of weights found, iteration: 657 loss: 0.20279402 acc: 0.9233333333333333\n",
            "New set of weights found, iteration: 669 loss: 0.20194092 acc: 0.9233333333333333\n",
            "New set of weights found, iteration: 689 loss: 0.20171663 acc: 0.9233333333333333\n",
            "New set of weights found, iteration: 693 loss: 0.20133682 acc: 0.9266666666666666\n",
            "New set of weights found, iteration: 697 loss: 0.20061225 acc: 0.9266666666666666\n",
            "New set of weights found, iteration: 718 loss: 0.19980553 acc: 0.9266666666666666\n",
            "New set of weights found, iteration: 734 loss: 0.19914164 acc: 0.9233333333333333\n",
            "New set of weights found, iteration: 736 loss: 0.1983694 acc: 0.9233333333333333\n",
            "New set of weights found, iteration: 742 loss: 0.19824107 acc: 0.9233333333333333\n",
            "New set of weights found, iteration: 744 loss: 0.19810817 acc: 0.92\n",
            "New set of weights found, iteration: 747 loss: 0.1974761 acc: 0.92\n",
            "New set of weights found, iteration: 748 loss: 0.19629692 acc: 0.9166666666666666\n",
            "New set of weights found, iteration: 750 loss: 0.19452976 acc: 0.92\n",
            "New set of weights found, iteration: 753 loss: 0.1926466 acc: 0.9166666666666666\n",
            "New set of weights found, iteration: 768 loss: 0.19041777 acc: 0.9266666666666666\n",
            "New set of weights found, iteration: 775 loss: 0.18989319 acc: 0.9166666666666666\n",
            "New set of weights found, iteration: 777 loss: 0.18953657 acc: 0.9233333333333333\n",
            "New set of weights found, iteration: 798 loss: 0.18926753 acc: 0.9166666666666666\n",
            "New set of weights found, iteration: 800 loss: 0.18837614 acc: 0.9233333333333333\n",
            "New set of weights found, iteration: 810 loss: 0.1882256 acc: 0.9133333333333333\n",
            "New set of weights found, iteration: 811 loss: 0.18682657 acc: 0.9233333333333333\n",
            "New set of weights found, iteration: 816 loss: 0.18676344 acc: 0.9233333333333333\n",
            "New set of weights found, iteration: 840 loss: 0.18661569 acc: 0.92\n",
            "New set of weights found, iteration: 846 loss: 0.18617687 acc: 0.92\n",
            "New set of weights found, iteration: 848 loss: 0.18539496 acc: 0.9233333333333333\n",
            "New set of weights found, iteration: 850 loss: 0.1853725 acc: 0.9233333333333333\n",
            "New set of weights found, iteration: 858 loss: 0.1852339 acc: 0.9233333333333333\n",
            "New set of weights found, iteration: 863 loss: 0.18363354 acc: 0.9233333333333333\n",
            "New set of weights found, iteration: 901 loss: 0.18264672 acc: 0.9266666666666666\n",
            "New set of weights found, iteration: 904 loss: 0.1824729 acc: 0.9233333333333333\n",
            "New set of weights found, iteration: 918 loss: 0.18246204 acc: 0.92\n",
            "New set of weights found, iteration: 931 loss: 0.18237363 acc: 0.9233333333333333\n",
            "New set of weights found, iteration: 936 loss: 0.18215083 acc: 0.9233333333333333\n",
            "New set of weights found, iteration: 949 loss: 0.1818775 acc: 0.9233333333333333\n",
            "New set of weights found, iteration: 1011 loss: 0.1816595 acc: 0.9266666666666666\n",
            "New set of weights found, iteration: 1017 loss: 0.18067992 acc: 0.9233333333333333\n",
            "New set of weights found, iteration: 1021 loss: 0.18057771 acc: 0.9266666666666666\n",
            "New set of weights found, iteration: 1037 loss: 0.18049364 acc: 0.9266666666666666\n",
            "New set of weights found, iteration: 1040 loss: 0.18025419 acc: 0.9266666666666666\n",
            "New set of weights found, iteration: 1057 loss: 0.18016236 acc: 0.9266666666666666\n",
            "New set of weights found, iteration: 1060 loss: 0.18005724 acc: 0.9266666666666666\n",
            "New set of weights found, iteration: 1079 loss: 0.17987506 acc: 0.9233333333333333\n",
            "New set of weights found, iteration: 1090 loss: 0.1797739 acc: 0.9266666666666666\n",
            "New set of weights found, iteration: 1106 loss: 0.17955045 acc: 0.92\n",
            "New set of weights found, iteration: 1131 loss: 0.17945322 acc: 0.9233333333333333\n",
            "New set of weights found, iteration: 1145 loss: 0.1793078 acc: 0.92\n",
            "New set of weights found, iteration: 1178 loss: 0.1789722 acc: 0.92\n",
            "New set of weights found, iteration: 1257 loss: 0.17880149 acc: 0.9233333333333333\n",
            "New set of weights found, iteration: 1306 loss: 0.17871022 acc: 0.9233333333333333\n",
            "New set of weights found, iteration: 1358 loss: 0.17809823 acc: 0.9233333333333333\n",
            "New set of weights found, iteration: 1423 loss: 0.17804144 acc: 0.9266666666666666\n",
            "New set of weights found, iteration: 1434 loss: 0.17785843 acc: 0.9266666666666666\n",
            "New set of weights found, iteration: 1435 loss: 0.17754884 acc: 0.9233333333333333\n",
            "New set of weights found, iteration: 1446 loss: 0.17725855 acc: 0.9266666666666666\n",
            "New set of weights found, iteration: 1486 loss: 0.17707741 acc: 0.9266666666666666\n",
            "New set of weights found, iteration: 1514 loss: 0.17703356 acc: 0.9233333333333333\n",
            "New set of weights found, iteration: 1560 loss: 0.17691892 acc: 0.9233333333333333\n",
            "New set of weights found, iteration: 1585 loss: 0.17662685 acc: 0.9266666666666666\n",
            "New set of weights found, iteration: 1691 loss: 0.17656 acc: 0.9266666666666666\n",
            "New set of weights found, iteration: 1743 loss: 0.17626055 acc: 0.9266666666666666\n",
            "New set of weights found, iteration: 1777 loss: 0.17611952 acc: 0.92\n",
            "New set of weights found, iteration: 1807 loss: 0.17604116 acc: 0.9266666666666666\n",
            "New set of weights found, iteration: 1829 loss: 0.17565024 acc: 0.9266666666666666\n",
            "New set of weights found, iteration: 1904 loss: 0.17563018 acc: 0.9266666666666666\n",
            "New set of weights found, iteration: 1940 loss: 0.17548002 acc: 0.9266666666666666\n",
            "New set of weights found, iteration: 2021 loss: 0.17539714 acc: 0.9266666666666666\n",
            "New set of weights found, iteration: 2024 loss: 0.17534392 acc: 0.92\n",
            "New set of weights found, iteration: 2047 loss: 0.17508438 acc: 0.9266666666666666\n",
            "New set of weights found, iteration: 2086 loss: 0.17496592 acc: 0.9266666666666666\n",
            "New set of weights found, iteration: 2404 loss: 0.1749508 acc: 0.9233333333333333\n",
            "New set of weights found, iteration: 2466 loss: 0.17492878 acc: 0.9266666666666666\n",
            "New set of weights found, iteration: 2478 loss: 0.17483614 acc: 0.9266666666666666\n",
            "New set of weights found, iteration: 2487 loss: 0.17474955 acc: 0.9266666666666666\n",
            "New set of weights found, iteration: 2514 loss: 0.1747213 acc: 0.9266666666666666\n",
            "New set of weights found, iteration: 2517 loss: 0.17443137 acc: 0.9266666666666666\n",
            "New set of weights found, iteration: 2536 loss: 0.1743497 acc: 0.9233333333333333\n",
            "New set of weights found, iteration: 2546 loss: 0.17427176 acc: 0.9266666666666666\n",
            "New set of weights found, iteration: 2611 loss: 0.17419125 acc: 0.9233333333333333\n",
            "New set of weights found, iteration: 2625 loss: 0.17410047 acc: 0.9266666666666666\n",
            "New set of weights found, iteration: 2770 loss: 0.17400587 acc: 0.9233333333333333\n",
            "New set of weights found, iteration: 2814 loss: 0.17399567 acc: 0.9233333333333333\n",
            "New set of weights found, iteration: 2843 loss: 0.17396665 acc: 0.9266666666666666\n",
            "New set of weights found, iteration: 2848 loss: 0.17394643 acc: 0.9266666666666666\n",
            "New set of weights found, iteration: 2877 loss: 0.1738474 acc: 0.9266666666666666\n",
            "New set of weights found, iteration: 2884 loss: 0.17370512 acc: 0.93\n",
            "New set of weights found, iteration: 2903 loss: 0.17346904 acc: 0.9233333333333333\n",
            "New set of weights found, iteration: 2920 loss: 0.17340595 acc: 0.9266666666666666\n",
            "New set of weights found, iteration: 3267 loss: 0.1732925 acc: 0.9266666666666666\n",
            "New set of weights found, iteration: 3291 loss: 0.17324725 acc: 0.93\n",
            "New set of weights found, iteration: 3414 loss: 0.17322992 acc: 0.93\n",
            "New set of weights found, iteration: 3841 loss: 0.173168 acc: 0.9333333333333333\n",
            "New set of weights found, iteration: 3848 loss: 0.17316721 acc: 0.93\n",
            "New set of weights found, iteration: 3854 loss: 0.17309116 acc: 0.9333333333333333\n",
            "New set of weights found, iteration: 3867 loss: 0.1730613 acc: 0.93\n",
            "New set of weights found, iteration: 4005 loss: 0.17302494 acc: 0.93\n",
            "New set of weights found, iteration: 4133 loss: 0.17298007 acc: 0.93\n",
            "New set of weights found, iteration: 4138 loss: 0.17296341 acc: 0.93\n",
            "New set of weights found, iteration: 4202 loss: 0.1729469 acc: 0.9333333333333333\n",
            "New set of weights found, iteration: 4414 loss: 0.17290597 acc: 0.93\n",
            "New set of weights found, iteration: 4438 loss: 0.17289266 acc: 0.93\n",
            "New set of weights found, iteration: 4569 loss: 0.17289025 acc: 0.9333333333333333\n",
            "New set of weights found, iteration: 4919 loss: 0.17288342 acc: 0.9333333333333333\n",
            "New set of weights found, iteration: 4996 loss: 0.17287782 acc: 0.9333333333333333\n",
            "New set of weights found, iteration: 5279 loss: 0.1728774 acc: 0.9333333333333333\n",
            "New set of weights found, iteration: 5358 loss: 0.17286085 acc: 0.9333333333333333\n",
            "New set of weights found, iteration: 6819 loss: 0.17282982 acc: 0.93\n",
            "New set of weights found, iteration: 7822 loss: 0.17282115 acc: 0.9333333333333333\n",
            "New set of weights found, iteration: 9434 loss: 0.17281303 acc: 0.9333333333333333\n",
            "New set of weights found, iteration: 10050 loss: 0.17280097 acc: 0.9333333333333333\n",
            "New set of weights found, iteration: 10703 loss: 0.17279904 acc: 0.9333333333333333\n",
            "New set of weights found, iteration: 18604 loss: 0.17278752 acc: 0.9333333333333333\n",
            "New set of weights found, iteration: 25983 loss: 0.17278683 acc: 0.9333333333333333\n",
            "New set of weights found, iteration: 43762 loss: 0.17277992 acc: 0.9333333333333333\n"
          ]
        }
      ]
    },
    {
      "cell_type": "code",
      "metadata": {
        "id": "xblYU1BkzJ5W",
        "outputId": "d5967ceb-147f-4a7b-f297-2efff70bfabc",
        "colab": {
          "base_uri": "https://localhost:8080/",
          "height": 435
        }
      },
      "source": [
        "# Derivative\n",
        "\n",
        "def f(x):\n",
        "  return 2*x**2\n",
        "\n",
        "x = np.arange(0, 5, 0.01)\n",
        "y = f(x)\n",
        "plt.plot(x, y)\n",
        "\n",
        "colors = ['k','g','r','b','c']\n",
        "\n",
        "def approx_tangent_line(x, approx_derivative, b):\n",
        "  return approx_derivative*x + b\n",
        "\n",
        "for i in range(5):\n",
        "  \n",
        "  p2_delta = 0.0001\n",
        "  x1 = i\n",
        "  x2 = x1 + p2_delta\n",
        "  y1 = f(x1)\n",
        "  y2 = f(x2)\n",
        "\n",
        "  print((x1, y1),(x2, y2))\n",
        "  approx_derivative = (y2-y1)/(x2-x1)\n",
        "  b = y2 - approx_derivative*x2\n",
        "\n",
        "  to_plot = [x1-0.9, x1, x1+0.9]\n",
        "  plt.scatter(x1, y1, c= colors[i])\n",
        "  plt.plot(to_plot, [approx_tangent_line(point,approx_derivative, b) \n",
        "          for point in to_plot], \n",
        "           c= colors[i])\n",
        "\n",
        "  print('Approximate Derivative for f(x)', \n",
        "        f'where x = {x1} is {approx_derivative}' )\n",
        "\n",
        "plt.show()\n",
        "\n"
      ],
      "execution_count": 80,
      "outputs": [
        {
          "output_type": "stream",
          "name": "stdout",
          "text": [
            "(0, 0) (0.0001, 2e-08)\n",
            "Approximate Derivative for f(x) where x = 0 is 0.00019999999999999998\n",
            "(1, 2) (1.0001, 2.00040002)\n",
            "Approximate Derivative for f(x) where x = 1 is 4.0001999999987845\n",
            "(2, 8) (2.0001, 8.000800020000002)\n",
            "Approximate Derivative for f(x) where x = 2 is 8.000199999998785\n",
            "(3, 18) (3.0001, 18.001200020000002)\n",
            "Approximate Derivative for f(x) where x = 3 is 12.000199999998785\n",
            "(4, 32) (4.0001, 32.00160002)\n",
            "Approximate Derivative for f(x) where x = 4 is 16.000200000016548\n"
          ]
        },
        {
          "output_type": "display_data",
          "data": {
            "image/png": "[encoded data removed]",
            "text/plain": [
              "<Figure size 432x288 with 1 Axes>"
            ]
          },
          "metadata": {
            "needs_background": "light"
          }
        }
      ]
    },
    {
      "cell_type": "code",
      "metadata": {
        "id": "-8PiGa2o06OR"
      },
      "source": [
        ""
      ],
      "execution_count": 69,
      "outputs": []
    },
    {
      "cell_type": "code",
      "metadata": {
        "id": "yzY5tokG06Rz"
      },
      "source": [
        ""
      ],
      "execution_count": null,
      "outputs": []
    }
  ]
}