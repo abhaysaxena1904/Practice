{
  "nbformat": 4,
  "nbformat_minor": 0,
  "metadata": {
    "colab": {
      "name": "NeuralNetworks_From_Scratch",
      "provenance": [],
      "collapsed_sections": [],
      "toc_visible": true,
      "mount_file_id": "1jXE2UPvUHVYtJ6Rr6flVb3gP1qG0vBga",
      "authorship_tag": "ABX9TyO7vuC8IkjdBD5slEpsH91g",
      "include_colab_link": true
    },
    "kernelspec": {
      "name": "python3",
      "display_name": "Python 3"
    },
    "language_info": {
      "name": "python"
    }
  },
  "cells": [
    {
      "cell_type": "markdown",
      "metadata": {
        "id": "view-in-github",
        "colab_type": "text"
      },
      "source": [
        "<a href=\"https://colab.research.google.com/github/abhaysaxena1904/Practice/blob/main/NeuralNetworks_From_Scratch.ipynb\" target=\"_parent\"><img src=\"https://colab.research.google.com/assets/colab-badge.svg\" alt=\"Open In Colab\"/></a>"
      ]
    },
    {
      "cell_type": "code",
      "metadata": {
        "id": "HJLOILw36xpg"
      },
      "source": [
        "import sys\n",
        "import numpy as np\n",
        "import matplotlib"
      ],
      "execution_count": null,
      "outputs": []
    },
    {
      "cell_type": "markdown",
      "metadata": {
        "id": "ZI3pCbgljYyo"
      },
      "source": [
        "# Neuron Calculation"
      ]
    },
    {
      "cell_type": "code",
      "metadata": {
        "id": "SbD52cLy6xtI",
        "colab": {
          "base_uri": "https://localhost:8080/"
        },
        "outputId": "3f565f0e-38d2-4b2a-ab84-fc4be66d5680"
      },
      "source": [
        "## Neuron with 3 input from previous layers \n",
        "\n",
        "inputs = [1,2,3]\n",
        "weights = [0.2,0.8,-0.5,1]\n",
        "bias= 2\n",
        "\n",
        "output = inputs[0]*weights[0] + inputs[1]*weights[1] + inputs[2]*weights[2] +bias\n",
        "output"
      ],
      "execution_count": null,
      "outputs": [
        {
          "output_type": "execute_result",
          "data": {
            "text/plain": [
              "2.3"
            ]
          },
          "metadata": {},
          "execution_count": 26
        }
      ]
    },
    {
      "cell_type": "code",
      "metadata": {
        "id": "y3ZVV0TC6xwD",
        "colab": {
          "base_uri": "https://localhost:8080/"
        },
        "outputId": "cdb66918-6683-4ca2-bbcb-498db273512e"
      },
      "source": [
        "## Neuron with 4 input from previous layers \n",
        "\n",
        "inputs = [1,2,3, 2.5]\n",
        "weights = [0.2,0.8,-0.5,1]\n",
        "bias= 2\n",
        "\n",
        "output = inputs[0]*weights[0] + inputs[1]*weights[1] + inputs[2]*weights[2] +inputs[3]*weights[3]+bias\n",
        "output"
      ],
      "execution_count": null,
      "outputs": [
        {
          "output_type": "execute_result",
          "data": {
            "text/plain": [
              "4.8"
            ]
          },
          "metadata": {},
          "execution_count": 28
        }
      ]
    },
    {
      "cell_type": "markdown",
      "metadata": {
        "id": "weVHESbsjgH5"
      },
      "source": [
        "# Layer calculation"
      ]
    },
    {
      "cell_type": "code",
      "metadata": {
        "colab": {
          "base_uri": "https://localhost:8080/"
        },
        "id": "DddTCEGpXpZE",
        "outputId": "16f32fde-b17f-41ca-d114-fad4703dac06"
      },
      "source": [
        "# Layer of 3 neurons with input from prev layer of 4 neurons\n",
        "\n",
        "inputs = [1,2,3, 2.5]\n",
        "\n",
        "\n",
        "weights1 = [0.2,0.8,-0.5,1]\n",
        "bias1 = 2\n",
        "weights2 = [0.5,-0.91,0.26,-0.5]\n",
        "bias2 = 3\n",
        "weights3 = [-0.26,-0.27,0.17,0.87]\n",
        "bias3 = 0.5\n",
        "\n",
        "output = [inputs[0]*weights1[0] + inputs[1]*weights1[1] + inputs[2]*weights1[2] +inputs[3]*weights1[3]+bias1,\n",
        "          inputs[0]*weights2[0] + inputs[1]*weights2[1] + inputs[2]*weights2[2] +inputs[3]*weights2[3]+bias2,\n",
        "          inputs[0]*weights3[0] + inputs[1]*weights3[1] + inputs[2]*weights3[2] +inputs[3]*weights3[3]+bias3]\n",
        "\n",
        "\n",
        "output"
      ],
      "execution_count": null,
      "outputs": [
        {
          "output_type": "execute_result",
          "data": {
            "text/plain": [
              "[4.8, 1.21, 2.385]"
            ]
          },
          "metadata": {},
          "execution_count": 33
        }
      ]
    },
    {
      "cell_type": "code",
      "metadata": {
        "id": "QbyY6Osy6xyI",
        "colab": {
          "base_uri": "https://localhost:8080/"
        },
        "outputId": "aa1350bf-f602-4514-ea66-c21e600c78b2"
      },
      "source": [
        "inputs = [1,2,3, 2.5]\n",
        "weights = [[0.2,0.8,-0.5,1],\n",
        "           [0.5,-0.91,0.26,-0.5],\n",
        "           [-0.26,-0.27,0.17,0.87]]\n",
        "biases =  [2, 3, 0.5]\n",
        "\n",
        "layer_output = []\n",
        "\n",
        "for neuron_weights, neuron_bias in zip(weights,biases):\n",
        "  neuron_output = 0\n",
        "  for n_input,weight in zip(inputs,neuron_weights):\n",
        "    neuron_output += n_input*weight\n",
        "  neuron_output += neuron_bias\n",
        "  layer_output.append(neuron_output)\n",
        "layer_output\n",
        "\n",
        "\n",
        "\n"
      ],
      "execution_count": null,
      "outputs": [
        {
          "output_type": "execute_result",
          "data": {
            "text/plain": [
              "[4.8, 1.21, 2.385]"
            ]
          },
          "metadata": {},
          "execution_count": 40
        }
      ]
    },
    {
      "cell_type": "markdown",
      "metadata": {
        "id": "zmIW6-9-jmCQ"
      },
      "source": [
        "# Shapes and types of Data"
      ]
    },
    {
      "cell_type": "code",
      "metadata": {
        "colab": {
          "base_uri": "https://localhost:8080/"
        },
        "id": "SZ2mlv3QavGS",
        "outputId": "c9b23351-dba9-4e1b-f1aa-088b323ff2f6"
      },
      "source": [
        "# list or 1 D array or a Vector\n",
        "\n",
        "l = [1,2,3,4]\n",
        "np.shape(l)\n"
      ],
      "execution_count": null,
      "outputs": [
        {
          "output_type": "execute_result",
          "data": {
            "text/plain": [
              "(4,)"
            ]
          },
          "metadata": {},
          "execution_count": 44
        }
      ]
    },
    {
      "cell_type": "code",
      "metadata": {
        "colab": {
          "base_uri": "https://localhost:8080/"
        },
        "id": "ZPKZMa10avJR",
        "outputId": "42d63d97-2bbd-4aed-f9f3-aabf941848ab"
      },
      "source": [
        "# List of List or 2 D Array or a Matrix\n",
        "\n",
        "lol=[[1,2,3,4],[2,3,4,5]]\n",
        "np.shape(lol)\n"
      ],
      "execution_count": null,
      "outputs": [
        {
          "output_type": "execute_result",
          "data": {
            "text/plain": [
              "(2, 4)"
            ]
          },
          "metadata": {},
          "execution_count": 45
        }
      ]
    },
    {
      "cell_type": "code",
      "metadata": {
        "colab": {
          "base_uri": "https://localhost:8080/"
        },
        "id": "tcFCpm8mavL-",
        "outputId": "ce06dea2-fffa-498d-88ce-8fe106757d35"
      },
      "source": [
        "## List of List of List or 3 D Array \n",
        "\n",
        "lolol = [[[1,2,3],[3,4,5]],[[2,3,4],[4,5,6]]]\n",
        "np.shape(lolol)\n"
      ],
      "execution_count": null,
      "outputs": [
        {
          "output_type": "execute_result",
          "data": {
            "text/plain": [
              "(2, 2, 3)"
            ]
          },
          "metadata": {},
          "execution_count": 53
        }
      ]
    },
    {
      "cell_type": "code",
      "metadata": {
        "id": "vKHzz3lIavO7"
      },
      "source": [
        "###  Tensors are objects that can be treated and are dealt as array while programming"
      ],
      "execution_count": null,
      "outputs": []
    },
    {
      "cell_type": "markdown",
      "metadata": {
        "id": "ElvOTpeTjtri"
      },
      "source": [
        "# Matrix Dot multiplication"
      ]
    },
    {
      "cell_type": "code",
      "metadata": {
        "colab": {
          "base_uri": "https://localhost:8080/"
        },
        "id": "UeEzH2AwavRx",
        "outputId": "c91dafdf-f73e-4cbb-c2a0-787975e48791"
      },
      "source": [
        "# Dot Product\n",
        "\n",
        "inputs = [1,2,3, 2.5]\n",
        "weights = [0.2,0.8,-0.5,1]\n",
        "bias= 2\n",
        "\n",
        "output = np.dot(weights,inputs)+bias\n",
        "output"
      ],
      "execution_count": null,
      "outputs": [
        {
          "output_type": "execute_result",
          "data": {
            "text/plain": [
              "4.8"
            ]
          },
          "metadata": {},
          "execution_count": 57
        }
      ]
    },
    {
      "cell_type": "code",
      "metadata": {
        "colab": {
          "base_uri": "https://localhost:8080/"
        },
        "id": "MW4-OPVcavU1",
        "outputId": "15c132d9-c882-4596-f4c7-e88d70bfdbd3"
      },
      "source": [
        "# Dot Product\n",
        "inputs = [1,2,3, 2.5]\n",
        "weights = [[0.2,0.8,-0.5,1],\n",
        "           [0.5,-0.91,0.26,-0.5],\n",
        "           [-0.26,-0.27,0.17,0.87]]\n",
        "biases =  [2, 3, 0.5]\n",
        "\n",
        "output = np.dot(weights,inputs)+biases\n",
        "output"
      ],
      "execution_count": null,
      "outputs": [
        {
          "output_type": "execute_result",
          "data": {
            "text/plain": [
              "array([4.8  , 1.21 , 2.385])"
            ]
          },
          "metadata": {},
          "execution_count": 59
        }
      ]
    },
    {
      "cell_type": "code",
      "metadata": {
        "id": "xq3vtymG4oh8",
        "colab": {
          "base_uri": "https://localhost:8080/"
        },
        "outputId": "00a18d14-bfc9-45ec-a979-e8226002c760"
      },
      "source": [
        "inputs = [[1,2,3, 2.5],\n",
        "          [2,5,-1,2],\n",
        "          [-1.5,2.7,3.3,-0.8]]\n",
        "\n",
        "          \n",
        "weights = [[0.2,0.8,-0.5,1],\n",
        "           [0.5,-0.91,0.26,-0.5],\n",
        "           [-0.26,-0.27,0.17,0.87]]\n",
        "biases =  [2, 3, 0.5]\n",
        "\n",
        "\n",
        "output = np.dot(inputs, np.array(weights).T) + biases\n",
        "output\n"
      ],
      "execution_count": null,
      "outputs": [
        {
          "output_type": "execute_result",
          "data": {
            "text/plain": [
              "array([[ 4.8  ,  1.21 ,  2.385],\n",
              "       [ 8.9  , -1.81 ,  0.2  ],\n",
              "       [ 1.41 ,  1.051,  0.026]])"
            ]
          },
          "metadata": {},
          "execution_count": 62
        }
      ]
    },
    {
      "cell_type": "code",
      "metadata": {
        "colab": {
          "base_uri": "https://localhost:8080/"
        },
        "id": "_aUaP7iLh7Ys",
        "outputId": "3d6df703-e340-40e5-f040-ecafd7af743a"
      },
      "source": [
        "inputs = [[1,2,3, 2.5],\n",
        "          [2,5,-1,2],\n",
        "          [-1.5,2.7,3.3,-0.8]]\n",
        "\n",
        "\n",
        "weights1 = [[0.2,0.8,-0.5,1],\n",
        "           [0.5,-0.91,0.26,-0.5],\n",
        "           [-0.26,-0.27,0.17,0.87]]\n",
        "biases1 =  [2, 3, 0.5]\n",
        "\n",
        "weights2 = [[0.1,-0.14,0.5],\n",
        "           [-0.5,0.12,-0.33],\n",
        "           [-0.44,0.73,-0.13]]\n",
        "biases2 =  [-1, 2, -0.5]\n",
        "\n",
        "layer1 = np.dot(inputs, np.array(weights1).T) + biases1\n",
        "output = np.dot(layer1, np.array(weights2).T) + biases2\n",
        "\n",
        "output "
      ],
      "execution_count": null,
      "outputs": [
        {
          "output_type": "execute_result",
          "data": {
            "text/plain": [
              "array([[ 0.5031 , -1.04185, -2.03875],\n",
              "       [ 0.2434 , -2.7332 , -5.7633 ],\n",
              "       [-0.99314,  1.41254, -0.35655]])"
            ]
          },
          "metadata": {},
          "execution_count": 66
        }
      ]
    },
    {
      "cell_type": "markdown",
      "metadata": {
        "id": "C-MSCljvrOA-"
      },
      "source": [
        "\n",
        "\n",
        "```\n",
        "# This is formatted as code\n",
        "```\n",
        "\n",
        "# Dense Layer Class"
      ]
    },
    {
      "cell_type": "code",
      "metadata": {
        "id": "56F4_248h7b_"
      },
      "source": [
        "np.random.seed(0)\n",
        "\n",
        "X = [[1,2,3, 2.5],\n",
        "     [2,5,-1,2],\n",
        "     [-1.5,2.7,3.3,-0.8]]\n",
        "\n",
        "class Layer_Dense:\n",
        "  def __init__(self, n_inputs, n_neurons):\n",
        "    self.weights = 0.1 * np.random.randn(n_inputs, n_neurons )\n",
        "    self.biases = np.zeros((1, n_neurons))\n",
        "  def forward(self, inputs):\n",
        "    self.output = np.dot(inputs, self.weights) + self.biases\n"
      ],
      "execution_count": null,
      "outputs": []
    },
    {
      "cell_type": "code",
      "metadata": {
        "colab": {
          "base_uri": "https://localhost:8080/"
        },
        "id": "-sAxvdhph7f7",
        "outputId": "0a2433d9-1741-4ab1-96c6-86b93b8afd4b"
      },
      "source": [
        "layer1 = Layer_Dense(4,5)\n",
        "layer2 = Layer_Dense(5,2)\n",
        "\n",
        "layer1.forward(X)\n",
        "layer1.output\n",
        "layer2.forward(layer1.output)\n",
        "layer2.output"
      ],
      "execution_count": null,
      "outputs": [
        {
          "output_type": "execute_result",
          "data": {
            "text/plain": [
              "array([[0.06970565, 0.08108632],\n",
              "       [0.15274871, 0.16069954],\n",
              "       [0.1141027 , 0.00852265]])"
            ]
          },
          "metadata": {},
          "execution_count": 77
        }
      ]
    },
    {
      "cell_type": "markdown",
      "metadata": {
        "id": "h1Ji7UhFwa7-"
      },
      "source": [
        "# Activation Function"
      ]
    },
    {
      "cell_type": "code",
      "metadata": {
        "colab": {
          "base_uri": "https://localhost:8080/"
        },
        "id": "Q7gqCq1sx25z",
        "outputId": "6f318692-baf1-4e0c-839e-1e2b5c1b7336"
      },
      "source": [
        "inputs = [0,2,-1,3.3,-2.7,1.1,2.2,-100]\n",
        "output = []\n",
        "'''\n",
        "for i in inputs:\n",
        "  if i>0:\n",
        "    output.append(i)\n",
        "  elif i<=0:\n",
        "    output.append(0)\n",
        "'''\n",
        "for i in inputs:\n",
        "  output.append(max(0,i))\n",
        "\n",
        "print(output)"
      ],
      "execution_count": null,
      "outputs": [
        {
          "output_type": "stream",
          "name": "stdout",
          "text": [
            "[0, 2, 0, 3.3, 0, 1.1, 2.2, 0]\n"
          ]
        }
      ]
    },
    {
      "cell_type": "code",
      "metadata": {
        "id": "n8D2XUp-yXwm"
      },
      "source": [
        "class Activation_ReLU:\n",
        "    def forward(self, inputs):\n",
        "        self.output = np.maximum(0, inputs)"
      ],
      "execution_count": null,
      "outputs": []
    },
    {
      "cell_type": "code",
      "metadata": {
        "colab": {
          "base_uri": "https://localhost:8080/"
        },
        "id": "45Xk2eqCyX4p",
        "outputId": "09c03916-3878-443a-8dc9-6115f37f4b1e"
      },
      "source": [
        "layer1 = Layer_Dense(2,5)\n",
        "activation1 = Activation_ReLU()\n",
        "\n",
        "layer1.forward(X)\n",
        "activation1.forward(layer1.output)\n",
        "activation1.output"
      ],
      "execution_count": null,
      "outputs": [
        {
          "output_type": "execute_result",
          "data": {
            "text/plain": [
              "array([[0.        , 0.        , 0.        , 0.        , 0.        ],\n",
              "       [0.        , 0.        , 0.        , 0.00112694, 0.        ],\n",
              "       [0.        , 0.        , 0.        , 0.00052084, 0.        ],\n",
              "       ...,\n",
              "       [0.        , 0.0149808 , 0.00088805, 0.        , 0.        ],\n",
              "       [0.        , 0.0884271 , 0.00872095, 0.        , 0.0507649 ],\n",
              "       [0.0051214 , 0.10473926, 0.0107864 , 0.        , 0.12834756]],\n",
              "      dtype=float32)"
            ]
          },
          "metadata": {},
          "execution_count": 104
        }
      ]
    },
    {
      "cell_type": "markdown",
      "metadata": {
        "id": "h6ChWqGn3tBI"
      },
      "source": [
        "# Code From Github"
      ]
    },
    {
      "cell_type": "code",
      "metadata": {
        "colab": {
          "base_uri": "https://localhost:8080/",
          "height": 265
        },
        "id": "fTbDhFSGxXjL",
        "outputId": "0c24b8e6-4bc9-4faa-f2d6-b8e37dca8f97"
      },
      "source": [
        "def spiral_data(points, classes):\n",
        "    X = np.zeros((points*classes, 2))\n",
        "    y = np.zeros(points*classes, dtype='uint8')\n",
        "    for class_number in range(classes):\n",
        "        ix = range(points*class_number, points*(class_number+1))\n",
        "        r = np.linspace(0.0, 1, points)  # radius\n",
        "        t = np.linspace(class_number*4, (class_number+1)*4, points) + np.random.randn(points)*0.2\n",
        "        X[ix] = np.c_[r*np.sin(t*2.5), r*np.cos(t*2.5)]\n",
        "        y[ix] = class_number\n",
        "    return X, y\n",
        "\n",
        "X,y = spiral_data(samples= 100,classes = 3)\n",
        "import matplotlib.pyplot as plt\n",
        "plt.plot(X,y)\n",
        "plt.show()"
      ],
      "execution_count": null,
      "outputs": [
        {
          "output_type": "display_data",
          "data": {
            "image/png": "[encoded data removed]",
            "text/plain": [
              "<Figure size 432x288 with 1 Axes>"
            ]
          },
          "metadata": {
            "needs_background": "light"
          }
        }
      ]
    },
    {
      "cell_type": "code",
      "metadata": {
        "colab": {
          "base_uri": "https://localhost:8080/"
        },
        "id": "3PuNFOumqYIJ",
        "outputId": "2efcbed6-807f-4aa4-e10c-5a650cfa08df"
      },
      "source": [
        "import numpy as np \n",
        "import nnfs\n",
        "from nnfs.datasets import spiral_data  # See for code: https://gist.github.com/Sentdex/454cb20ec5acf0e76ee8ab8448e6266c\n",
        "\n",
        "nnfs.init()\n",
        "\n",
        "X, y = spiral_data(100, 3)   \n",
        "\n",
        "\n",
        "class Layer_Dense:\n",
        "    def __init__(self, n_inputs, n_neurons):\n",
        "        self.weights = 0.10 * np.random.randn(n_inputs, n_neurons)\n",
        "        self.biases = np.zeros((1, n_neurons))\n",
        "    def forward(self, inputs):\n",
        "        self.output = np.dot(inputs, self.weights) + self.biases\n",
        "\n",
        "\n",
        "class Activation_ReLU:\n",
        "    def forward(self, inputs):\n",
        "        self.output = np.maximum(0, inputs)\n",
        "\n",
        "\n",
        "layer1 = Layer_Dense(2,5)\n",
        "activation1 = Activation_ReLU()\n",
        "\n",
        "layer1.forward(X)\n",
        "\n",
        "#print(layer1.output)\n",
        "activation1.forward(layer1.output)\n",
        "activation1.output"
      ],
      "execution_count": null,
      "outputs": [
        {
          "output_type": "execute_result",
          "data": {
            "text/plain": [
              "array([[0.00000000e+00, 0.00000000e+00, 0.00000000e+00, 0.00000000e+00,\n",
              "        0.00000000e+00],\n",
              "       [0.00000000e+00, 0.00000000e+00, 0.00000000e+00, 4.65504505e-04,\n",
              "        4.56846210e-05],\n",
              "       [0.00000000e+00, 5.93469958e-05, 0.00000000e+00, 2.03573116e-04,\n",
              "        6.10024377e-04],\n",
              "       ...,\n",
              "       [1.13291524e-01, 0.00000000e+00, 0.00000000e+00, 8.11079666e-02,\n",
              "        0.00000000e+00],\n",
              "       [1.34588361e-01, 0.00000000e+00, 3.09493970e-02, 5.66337556e-02,\n",
              "        0.00000000e+00],\n",
              "       [1.07817926e-01, 0.00000000e+00, 0.00000000e+00, 8.72561932e-02,\n",
              "        0.00000000e+00]], dtype=float32)"
            ]
          },
          "metadata": {},
          "execution_count": 105
        }
      ]
    },
    {
      "cell_type": "markdown",
      "metadata": {
        "id": "UQT6iU3S4PgG"
      },
      "source": [
        "# SoftMax Activation "
      ]
    },
    {
      "cell_type": "code",
      "metadata": {
        "colab": {
          "base_uri": "https://localhost:8080/"
        },
        "id": "DFYm2m2Qwf3R",
        "outputId": "ba2ab080-763d-4bb2-c06f-1aacccf48887"
      },
      "source": [
        "layer_output"
      ],
      "execution_count": null,
      "outputs": [
        {
          "output_type": "execute_result",
          "data": {
            "text/plain": [
              "[4.8, 1.21, 2.385]"
            ]
          },
          "metadata": {},
          "execution_count": 108
        }
      ]
    },
    {
      "cell_type": "code",
      "metadata": {
        "colab": {
          "base_uri": "https://localhost:8080/"
        },
        "id": "J2bUehbK47k_",
        "outputId": "25c43d86-e795-41e7-e4d4-1a9c17ada0b7"
      },
      "source": [
        "import math\n",
        "E= math.e\n",
        "E"
      ],
      "execution_count": null,
      "outputs": [
        {
          "output_type": "execute_result",
          "data": {
            "text/plain": [
              "2.718281828459045"
            ]
          },
          "metadata": {},
          "execution_count": 112
        }
      ]
    },
    {
      "cell_type": "code",
      "metadata": {
        "colab": {
          "base_uri": "https://localhost:8080/"
        },
        "id": "sTF0VwUF47hg",
        "outputId": "ac9b00de-cbee-4189-817a-bcfce25604ac"
      },
      "source": [
        "exp_values = []\n",
        "'''\n",
        "for output in layer_output:\n",
        "  exp_values.append(E**output)\n",
        "norm_base = sum(exp_values)\n",
        "norm_values = []\n",
        "for value in exp_values:\n",
        "  norm_values.append(value / norm_base)\n",
        "'''\n",
        "exp_values = np.exp(layer_output)\n",
        "norm_values= exp_values/np.sum(exp_values)\n",
        "\n",
        "print(norm_values)\n",
        "print('sum of normalized values (probability distributions) adds upto', sum(norm_values))\n"
      ],
      "execution_count": null,
      "outputs": [
        {
          "output_type": "stream",
          "name": "stdout",
          "text": [
            "[0.89528266 0.02470831 0.08000903]\n",
            "sum of normalized values (probability distributions) adds upto 0.9999999999999999\n"
          ]
        }
      ]
    },
    {
      "cell_type": "code",
      "metadata": {
        "id": "02EbgXWbwf6F"
      },
      "source": [
        "class Activation_Softmax:\n",
        "  def forward(self,inputs):\n",
        "    exp_values= np.exp(inputs - np.max(inputs,axis=1,keepdims=True))\n",
        "    probabilities = exp_values/np.sum(exp_values,axis=1,keepdims=True)\n",
        "    self.output = probabilities"
      ],
      "execution_count": null,
      "outputs": []
    },
    {
      "cell_type": "markdown",
      "metadata": {
        "id": "9SpKuEHjARbk"
      },
      "source": [
        "# Getting Output of probabilities for the 3 classes as in the spiral datasets"
      ]
    },
    {
      "cell_type": "code",
      "metadata": {
        "colab": {
          "base_uri": "https://localhost:8080/"
        },
        "id": "gsfSiqP26jwG",
        "outputId": "455fdc42-b608-4de2-f916-1425b9d554e1"
      },
      "source": [
        "dense1 = Layer_Dense(2,3)\n",
        "activation1 = Activation_ReLU()\n",
        "\n",
        "dense2 = Layer_Dense(3,3)\n",
        "activation2 = Activation_Softmax()\n",
        "\n",
        "dense1.forward(X)\n",
        "activation1.forward(dense1.output)\n",
        "\n",
        "dense2.forward(activation1.output)\n",
        "activation2.forward(dense2.output)\n",
        "\n",
        "print(activation2.output[:5])"
      ],
      "execution_count": null,
      "outputs": [
        {
          "output_type": "stream",
          "name": "stdout",
          "text": [
            "[[0.33333334 0.33333334 0.33333334]\n",
            " [0.33329222 0.3333333  0.33337447]\n",
            " [0.33327144 0.33325514 0.33347347]\n",
            " [0.33332744 0.33305907 0.33361349]\n",
            " [0.3333133  0.33297983 0.33370686]]\n"
          ]
        }
      ]
    },
    {
      "cell_type": "markdown",
      "metadata": {
        "id": "h9Q-7eWlAcgp"
      },
      "source": [
        "# Loss Function"
      ]
    },
    {
      "cell_type": "code",
      "metadata": {
        "id": "_U5-vAe96jzT"
      },
      "source": [
        "import math"
      ],
      "execution_count": null,
      "outputs": []
    },
    {
      "cell_type": "code",
      "metadata": {
        "colab": {
          "base_uri": "https://localhost:8080/"
        },
        "id": "Oo0FmqoT6j10",
        "outputId": "d7f74c68-4bc2-4310-9ac5-5c1be9bf62db"
      },
      "source": [
        "softmax_output = [0.7,0.1,0.2]\n",
        "target_output = [1,0,0]\n",
        "\n",
        "loss = -(math.log(softmax_output[0])*target_output[0]+\n",
        "         math.log(softmax_output[1])*target_output[1]+\n",
        "         math.log(softmax_output[2])*target_output[2])\n",
        "\n",
        "loss\n"
      ],
      "execution_count": null,
      "outputs": [
        {
          "output_type": "execute_result",
          "data": {
            "text/plain": [
              "0.35667494393873245"
            ]
          },
          "metadata": {},
          "execution_count": 131
        }
      ]
    },
    {
      "cell_type": "markdown",
      "metadata": {
        "id": "LEpOH1KPFW86"
      },
      "source": [
        "# Implementing Loss Fn"
      ]
    },
    {
      "cell_type": "code",
      "metadata": {
        "colab": {
          "base_uri": "https://localhost:8080/"
        },
        "id": "PAg9TmXCFcw_",
        "outputId": "d435b2bc-ae66-4689-de1b-f3ef4ec9d061"
      },
      "source": [
        "softmax_output = np.array([[0.7,0.1,0.2],\n",
        "                          [0.1,0.5,0.4],\n",
        "                          [0.02,0.9,0.08]])\n",
        "\n",
        "class_target = [0,1,1]\n",
        "\n",
        "#range(len(softmax_output)) == [0,1,2]\n",
        "print(-np.log(softmax_output[range(len(softmax_output)),[class_target]]))"
      ],
      "execution_count": null,
      "outputs": [
        {
          "output_type": "stream",
          "name": "stdout",
          "text": [
            "[[0.35667494 0.69314718 0.10536052]]\n"
          ]
        }
      ]
    },
    {
      "cell_type": "code",
      "metadata": {
        "id": "Vu42Ou2z6kLJ"
      },
      "source": [
        "class Loss:\n",
        "  def calculate(self,output,y):\n",
        "    sample_losses = self.forward(output, y)\n",
        "    data_loss = np.mean(sample_losses)\n",
        "    return data_loss\n",
        "\n",
        "class loss_CategoricalCrossEntropy(Loss):\n",
        "  def forward(self, y_pred, y_true):\n",
        "    sample = len(y_pred)\n",
        "    y_pred_clipped = np.clip(y_pred, 1e-7, 1-1e-7)   # To Avoid log(0) = Infinity\n",
        "    if len(y_true.shape == 1):\n",
        "      correct_confidences = y_pred_clipped[range(samples), y_true]\n",
        "      "
      ],
      "execution_count": null,
      "outputs": []
    },
    {
      "cell_type": "code",
      "metadata": {
        "id": "kz6Meo8g6kNb"
      },
      "source": [
        ""
      ],
      "execution_count": null,
      "outputs": []
    },
    {
      "cell_type": "code",
      "metadata": {
        "id": "EzSQ6BSS6kP-"
      },
      "source": [
        ""
      ],
      "execution_count": null,
      "outputs": []
    },
    {
      "cell_type": "code",
      "metadata": {
        "id": "l1B_68mm6kSP"
      },
      "source": [
        ""
      ],
      "execution_count": null,
      "outputs": []
    }
  ]
}